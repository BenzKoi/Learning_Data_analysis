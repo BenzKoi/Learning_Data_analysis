{
 "cells": [
  {
   "cell_type": "markdown",
   "metadata": {},
   "source": [
    "# seaborn (barplot) "
   ]
  },
  {
   "cell_type": "code",
   "execution_count": null,
   "metadata": {},
   "outputs": [],
   "source": [
    "import pandas as pd\n",
    "import matplotlib.pyplot as plt\n",
    "import seaborn as sns\n",
    "%matplotlib inline\n",
    "%config InlineBackend.figure_format='retina'"
   ]
  },
  {
   "cell_type": "code",
   "execution_count": null,
   "metadata": {},
   "outputs": [],
   "source": [
    "print(f\"pandas  version = {pd.__version__}\")\n",
    "print(f\"seaborn version = {sns.__version__}\")"
   ]
  },
  {
   "cell_type": "markdown",
   "metadata": {},
   "source": [
    "## read miles per gallon dataset (mpg.csv)"
   ]
  },
  {
   "cell_type": "code",
   "execution_count": null,
   "metadata": {},
   "outputs": [],
   "source": [
    "url='https://github.com/prasertcbs/tutorial/raw/master/mpg.csv'\n",
    "df=pd.read_csv(url)\n",
    "df.head()"
   ]
  },
  {
   "cell_type": "code",
   "execution_count": null,
   "metadata": {},
   "outputs": [],
   "source": [
    "df['gear']=df.trans.str[0].map({'a':'auto', 'm':'manual'}).astype(\"category\")\n",
    "df['drv']=df.drv.map({'f':'front', 'r':'rear', '4':'4-wheel'}).astype('category')\n",
    "df.head()"
   ]
  },
  {
   "cell_type": "markdown",
   "metadata": {},
   "source": [
    "## wide format"
   ]
  },
  {
   "cell_type": "code",
   "execution_count": null,
   "metadata": {},
   "outputs": [],
   "source": [
    "sns.barplot(data=[df.cty, df.hwy])\n",
    "# notice: no x-axis label"
   ]
  },
  {
   "cell_type": "code",
   "execution_count": null,
   "metadata": {},
   "outputs": [],
   "source": [
    "# wide format\n",
    "sns.barplot(data=df[['cty', 'hwy']]) # with correct x-axis label"
   ]
  },
  {
   "cell_type": "code",
   "execution_count": null,
   "metadata": {},
   "outputs": [],
   "source": [
    "sns.barplot(data=df[['cty', 'hwy']], orient='h') # with correct x-axis label"
   ]
  },
  {
   "cell_type": "markdown",
   "metadata": {},
   "source": [
    "## long format"
   ]
  },
  {
   "cell_type": "code",
   "execution_count": null,
   "metadata": {},
   "outputs": [],
   "source": [
    "sns.barplot(x='cty', data=df)"
   ]
  },
  {
   "cell_type": "code",
   "execution_count": null,
   "metadata": {},
   "outputs": [],
   "source": [
    "sns.barplot(y='cty', data=df)"
   ]
  },
  {
   "cell_type": "code",
   "execution_count": null,
   "metadata": {},
   "outputs": [],
   "source": [
    "sns.barplot(x='gear', y='cty', data=df)"
   ]
  },
  {
   "cell_type": "code",
   "execution_count": null,
   "metadata": {},
   "outputs": [],
   "source": [
    "sns.barplot(x='gear', y='cty', data=df,\n",
    "            hue='drv')"
   ]
  },
  {
   "cell_type": "markdown",
   "metadata": {},
   "source": [
    "### set 'estimator'"
   ]
  },
  {
   "cell_type": "code",
   "execution_count": null,
   "metadata": {},
   "outputs": [],
   "source": [
    "df.groupby('drv')['cty'].describe()"
   ]
  },
  {
   "cell_type": "code",
   "execution_count": null,
   "metadata": {},
   "outputs": [],
   "source": [
    "sns.barplot(x='drv', y='cty', data=df)"
   ]
  },
  {
   "cell_type": "code",
   "execution_count": null,
   "metadata": {},
   "outputs": [],
   "source": [
    "sns.barplot(x='drv', y='cty', data=df,\n",
    "            estimator=max,\n",
    "            ci=None)"
   ]
  },
  {
   "cell_type": "code",
   "execution_count": null,
   "metadata": {},
   "outputs": [],
   "source": [
    "sns.barplot(x='drv', y='cty', data=df,\n",
    "            estimator=min,\n",
    "            ci=None)"
   ]
  },
  {
   "cell_type": "code",
   "execution_count": null,
   "metadata": {},
   "outputs": [],
   "source": [
    "import numpy as np"
   ]
  },
  {
   "cell_type": "code",
   "execution_count": null,
   "metadata": {},
   "outputs": [],
   "source": [
    "sns.barplot(x='drv', y='cty', data=df,\n",
    "            estimator=np.median,\n",
    "            ci=None)"
   ]
  },
  {
   "cell_type": "markdown",
   "metadata": {},
   "source": [
    "### add an average line"
   ]
  },
  {
   "cell_type": "code",
   "execution_count": null,
   "metadata": {},
   "outputs": [],
   "source": [
    "avg=df.cty.mean()\n",
    "sns.barplot(x='drv', y='cty', data=df, \n",
    "            color='lightgray', \n",
    "            errcolor='maroon', capsize=.1)\n",
    "plt.axhline(y=avg, color='deepskyblue', linestyle='--')"
   ]
  },
  {
   "cell_type": "markdown",
   "metadata": {},
   "source": [
    "### custom order and errorbar (ex. sd)"
   ]
  },
  {
   "cell_type": "code",
   "execution_count": null,
   "metadata": {},
   "outputs": [],
   "source": [
    "avg=df.cty.mean()\n",
    "sns.barplot(x='drv', y='cty', data=df, \n",
    "            color='lightgray', \n",
    "            ci='sd',\n",
    "            errcolor='maroon', capsize=.1,\n",
    "            order=['front', '4-wheel', 'rear'])\n",
    "plt.axhline(y=avg, color='deepskyblue', linestyle='--')"
   ]
  },
  {
   "cell_type": "code",
   "execution_count": null,
   "metadata": {},
   "outputs": [],
   "source": [
    "avg=df.cty.mean()\n",
    "plt.figure(figsize=(7,4))\n",
    "sns.barplot(x='drv', y='cty', data=df, \n",
    "            hue='gear',\n",
    "            palette='Set2', \n",
    "            ci='sd',\n",
    "            errcolor='maroon', capsize=.1,\n",
    "            order=['front', '4-wheel', 'rear'],\n",
    "       )\n",
    "plt.axhline(y=avg, color='deepskyblue', linestyle='--')\n",
    "# plt.savefig('bar2.png', dpi=150)\n",
    "# plt.savefig('bar_a4.pdf', papertype='a4')\n",
    "# plt.savefig('bar.svg')"
   ]
  },
  {
   "cell_type": "code",
   "execution_count": null,
   "metadata": {},
   "outputs": [],
   "source": [
    "sns.barplot(x='drv', y='cty', data=df,\n",
    "            hue='gear', ci=None)"
   ]
  },
  {
   "cell_type": "markdown",
   "metadata": {},
   "source": [
    "### palette"
   ]
  },
  {
   "cell_type": "code",
   "execution_count": null,
   "metadata": {},
   "outputs": [],
   "source": [
    "sns.barplot(x='drv', y='cty', data=df,\n",
    "            hue='gear', \n",
    "            ci=None,\n",
    "            palette=['deepskyblue', 'tomato'])\n",
    "plt.xlabel('')\n",
    "plt.ylabel('city miles per gallon')\n",
    "plt.title('fuel efficiency by drive wheels')"
   ]
  },
  {
   "cell_type": "code",
   "execution_count": null,
   "metadata": {},
   "outputs": [],
   "source": [
    "sns.barplot(x='drv', y='cty', data=df,\n",
    "            hue='gear', \n",
    "            ci=None,\n",
    "            palette={'auto':'deepskyblue', 'manual':'#dd0000'})\n",
    "plt.xlabel('')\n",
    "plt.ylabel('city miles per gallon')\n",
    "plt.title('fuel efficiency by drive wheels');"
   ]
  },
  {
   "cell_type": "markdown",
   "metadata": {},
   "source": [
    "### factorplot"
   ]
  },
  {
   "cell_type": "code",
   "execution_count": null,
   "metadata": {},
   "outputs": [],
   "source": [
    "sns.factorplot(x='drv', y='cty', data=df,\n",
    "               hue=\"gear\", \n",
    "               col=\"year\",\n",
    "               kind=\"bar\",\n",
    "               size=4, aspect=1);"
   ]
  },
  {
   "cell_type": "code",
   "execution_count": null,
   "metadata": {},
   "outputs": [],
   "source": [
    "df['class'].unique()"
   ]
  },
  {
   "cell_type": "code",
   "execution_count": null,
   "metadata": {},
   "outputs": [],
   "source": [
    "df[df['class'].str.match('compact|suv|midsize')].sample(frac=.05)"
   ]
  },
  {
   "cell_type": "code",
   "execution_count": null,
   "metadata": {},
   "outputs": [],
   "source": [
    "sns.factorplot(x='drv', y='cty', data=df[df['class'].str.match('compact|suv|midsize')],\n",
    "               hue='gear', \n",
    "               row='year',\n",
    "               col='class',\n",
    "               kind='bar',\n",
    "               ci=None,\n",
    "               palette=['deepskyblue', 'tomato'],\n",
    "               size=3, aspect=1);"
   ]
  },
  {
   "cell_type": "code",
   "execution_count": null,
   "metadata": {},
   "outputs": [],
   "source": []
  }
 ],
 "metadata": {
  "language_info": {
   "name": "python",
   "pygments_lexer": "ipython3"
  }
 },
 "nbformat": 4,
 "nbformat_minor": 2
}

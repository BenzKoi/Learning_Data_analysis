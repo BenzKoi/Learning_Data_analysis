{
 "cells": [
  {
   "cell_type": "markdown",
   "metadata": {},
   "source": [
    "# seaborn (heatmap) "
   ]
  },
  {
   "cell_type": "code",
   "execution_count": null,
   "metadata": {},
   "outputs": [],
   "source": [
    "import pandas as pd\n",
    "import matplotlib.pyplot as plt\n",
    "import seaborn as sns\n",
    "import numpy as np\n",
    "%matplotlib inline\n",
    "%config InlineBackend.figure_format='retina'"
   ]
  },
  {
   "cell_type": "code",
   "execution_count": null,
   "metadata": {},
   "outputs": [],
   "source": [
    "print(f\"pandas  version = {pd.__version__}\")\n",
    "print(f\"seaborn version = {sns.__version__}\")\n",
    "print(f\"numpy   version = {np.__version__}\")"
   ]
  },
  {
   "cell_type": "markdown",
   "metadata": {},
   "source": [
    "## Ex 1. จำนวนบัตรพลาสติกในประเทศไทย\n",
    "http://www2.bot.or.th/statistics/BOTWEBSTAT.aspx?reportID=685&language=TH"
   ]
  },
  {
   "cell_type": "code",
   "execution_count": null,
   "metadata": {},
   "outputs": [],
   "source": [
    "df=pd.read_excel('https://github.com/prasertcbs/basic-dataset/raw/master/plastic_cards_in_Thailand.xlsx',\n",
    "                index_col='Card')\n",
    "df"
   ]
  },
  {
   "cell_type": "code",
   "execution_count": null,
   "metadata": {},
   "outputs": [],
   "source": [
    "sns.heatmap(df)"
   ]
  },
  {
   "cell_type": "code",
   "execution_count": null,
   "metadata": {},
   "outputs": [],
   "source": [
    "plt.figure(figsize=(8,4))\n",
    "cmap = sns.diverging_palette(h_neg=0, h_pos=240, as_cmap=True) # hue\n",
    "sns.heatmap(df,\n",
    "            center=0,\n",
    "            annot=True, fmt=',.0f',\n",
    "            linewidths=.5,\n",
    "            cmap=cmap)"
   ]
  },
  {
   "cell_type": "code",
   "execution_count": null,
   "metadata": {},
   "outputs": [],
   "source": [
    "df.applymap(lambda n: n / 1e6).round(1)"
   ]
  },
  {
   "cell_type": "code",
   "execution_count": null,
   "metadata": {},
   "outputs": [],
   "source": [
    "df"
   ]
  },
  {
   "cell_type": "code",
   "execution_count": null,
   "metadata": {},
   "outputs": [],
   "source": [
    "df=df.applymap(lambda n: n / 1e6).round(1)"
   ]
  },
  {
   "cell_type": "code",
   "execution_count": null,
   "metadata": {},
   "outputs": [],
   "source": [
    "plt.figure(figsize=(8,5))\n",
    "cmap = sns.diverging_palette(h_neg=110, h_pos=130, as_cmap=True) # cmap = color map\n",
    "sns.heatmap(df,\n",
    "            annot=True, fmt='.1f',\n",
    "            center=0,\n",
    "            linewidths=.5,\n",
    "            cmap=cmap)\n",
    "plt.title('# of plastic cards (in millions)');"
   ]
  },
  {
   "cell_type": "markdown",
   "metadata": {},
   "source": [
    "## Ex 2: Monthly sales"
   ]
  },
  {
   "cell_type": "code",
   "execution_count": null,
   "metadata": {},
   "outputs": [],
   "source": [
    "import calendar\n",
    "df=pd.DataFrame(np.random.randint(low=10, high=101, size=(3, 12)),\n",
    "                index=['mocha', 'latte', 'espresso'],\n",
    "                columns=[calendar.month_abbr[i] for i in range(1, 13)])\n",
    "df"
   ]
  },
  {
   "cell_type": "code",
   "execution_count": null,
   "metadata": {},
   "outputs": [],
   "source": [
    "np.random.randint(low=10, high=101, size=(3, 12))"
   ]
  },
  {
   "cell_type": "code",
   "execution_count": null,
   "metadata": {},
   "outputs": [],
   "source": [
    "df=pd.DataFrame(np.random.randint(low=10, high=101, size=(3, 12)))\n",
    "df"
   ]
  },
  {
   "cell_type": "code",
   "execution_count": null,
   "metadata": {},
   "outputs": [],
   "source": [
    "import calendar\n",
    "m_abbr = [calendar.month_abbr[i] for i in range(1, 13)]\n",
    "m_abbr"
   ]
  },
  {
   "cell_type": "code",
   "execution_count": null,
   "metadata": {},
   "outputs": [],
   "source": [
    "df.columns=m_abbr\n",
    "df"
   ]
  },
  {
   "cell_type": "code",
   "execution_count": null,
   "metadata": {},
   "outputs": [],
   "source": [
    "df.rename({0:'mocha', 1:'latte', 2:'espresso'}, inplace=True)\n",
    "df"
   ]
  },
  {
   "cell_type": "code",
   "execution_count": null,
   "metadata": {},
   "outputs": [],
   "source": [
    "sns.heatmap(df)"
   ]
  },
  {
   "cell_type": "code",
   "execution_count": null,
   "metadata": {},
   "outputs": [],
   "source": [
    "plt.figure(figsize=(8,4))\n",
    "cmap = sns.diverging_palette(h_neg=0, h_pos=120, as_cmap=True)\n",
    "sns.heatmap(df,\n",
    "            center=0,\n",
    "            annot=True, fmt='.0f',\n",
    "            linewidths=.5,\n",
    "            cmap=cmap)"
   ]
  },
  {
   "cell_type": "code",
   "execution_count": null,
   "metadata": {},
   "outputs": [],
   "source": [
    "import calendar\n",
    "df=pd.DataFrame(np.random.randint(low=-50, high=101, size=(3, 12)),\n",
    "                index=['mocha', 'latte', 'espresso'],\n",
    "                columns=[calendar.month_abbr[i] for i in range(1, 13)])\n",
    "df"
   ]
  },
  {
   "cell_type": "code",
   "execution_count": null,
   "metadata": {},
   "outputs": [],
   "source": [
    "plt.figure(figsize=(8,4))\n",
    "cmap = sns.diverging_palette(h_neg=0, h_pos=120, as_cmap=True)\n",
    "sns.heatmap(df,\n",
    "            center=0,\n",
    "            annot=True, fmt='.0f',\n",
    "            linewidths=.5,\n",
    "            cmap=cmap)"
   ]
  },
  {
   "cell_type": "markdown",
   "metadata": {},
   "source": [
    "## read miles per gallon dataset (mpg.csv)"
   ]
  },
  {
   "cell_type": "code",
   "execution_count": null,
   "metadata": {},
   "outputs": [],
   "source": [
    "url='https://github.com/prasertcbs/tutorial/raw/master/mpg.csv'\n",
    "df=pd.read_csv(url)\n",
    "df.head()"
   ]
  },
  {
   "cell_type": "code",
   "execution_count": null,
   "metadata": {},
   "outputs": [],
   "source": [
    "df['gear']=df.trans.str[0].map({'a':'auto', 'm':'manual'}).astype(\"category\")\n",
    "df['drv']=df.drv.map({'f':'front', 'r':'rear', '4':'4-wheel'}).astype('category')\n",
    "df.head()"
   ]
  },
  {
   "cell_type": "markdown",
   "metadata": {},
   "source": [
    "## Ex 3: create heatmap from crosstab table"
   ]
  },
  {
   "cell_type": "code",
   "execution_count": null,
   "metadata": {},
   "outputs": [],
   "source": [
    "xtab=pd.crosstab(df.drv, df['class'])\n",
    "xtab\n",
    "#sns.heatmap(xtab)"
   ]
  },
  {
   "cell_type": "code",
   "execution_count": null,
   "metadata": {},
   "outputs": [],
   "source": [
    "xtab['compact']"
   ]
  },
  {
   "cell_type": "code",
   "execution_count": null,
   "metadata": {},
   "outputs": [],
   "source": [
    "xtab=xtab.applymap(lambda n: (n-xtab['compact'][0])/xtab['compact'][0]).round(1)\n",
    "xtab"
   ]
  },
  {
   "cell_type": "code",
   "execution_count": null,
   "metadata": {},
   "outputs": [],
   "source": [
    "sns.heatmap(xtab)"
   ]
  },
  {
   "cell_type": "code",
   "execution_count": null,
   "metadata": {},
   "outputs": [],
   "source": [
    "cmap = sns.diverging_palette(h_neg=10, h_pos=20, as_cmap=True)\n",
    "sns.heatmap(xtab,\n",
    "            center=0,\n",
    "            annot=True, fmt='.2f',\n",
    "            linewidths=.5,\n",
    "            cmap=cmap)"
   ]
  },
  {
   "cell_type": "code",
   "execution_count": null,
   "metadata": {},
   "outputs": [],
   "source": [
    "sns.heatmap(xtab,\n",
    "            center=0,\n",
    "            annot=True, fmt='.2f',\n",
    "            linewidths=.5,\n",
    "            cmap='RdGy')"
   ]
  },
  {
   "cell_type": "code",
   "execution_count": null,
   "metadata": {},
   "outputs": [],
   "source": [
    "sns.heatmap(xtab,\n",
    "            center=0,\n",
    "            annot=True, fmt='.2f',\n",
    "            linewidths=.5,\n",
    "            cmap='YlOrRd')"
   ]
  },
  {
   "cell_type": "markdown",
   "metadata": {},
   "source": [
    "## Ex 4: create heatmap from correlation matrix"
   ]
  },
  {
   "cell_type": "code",
   "execution_count": null,
   "metadata": {},
   "outputs": [],
   "source": [
    "url='https://github.com/prasertcbs/tutorial/raw/master/mpg.csv'\n",
    "df=pd.read_csv(url)\n",
    "df.head()"
   ]
  },
  {
   "cell_type": "code",
   "execution_count": null,
   "metadata": {},
   "outputs": [],
   "source": [
    "df['gear']=df.trans.str[0].map({'a':'auto', 'm':'manual'}).astype(\"category\")\n",
    "df['drv']=df.drv.map({'f':'front', 'r':'rear', '4':'4-wheel'}).astype('category')\n",
    "df.head()"
   ]
  },
  {
   "cell_type": "code",
   "execution_count": null,
   "metadata": {},
   "outputs": [],
   "source": [
    "df.corr()"
   ]
  },
  {
   "cell_type": "code",
   "execution_count": null,
   "metadata": {},
   "outputs": [],
   "source": [
    "dg=df[['displ', 'cyl', 'cty', 'hwy']].corr()\n",
    "dg"
   ]
  },
  {
   "cell_type": "code",
   "execution_count": null,
   "metadata": {},
   "outputs": [],
   "source": [
    "sns.heatmap(dg)"
   ]
  },
  {
   "cell_type": "code",
   "execution_count": null,
   "metadata": {},
   "outputs": [],
   "source": [
    "mask = np.zeros_like(dg)\n",
    "mask"
   ]
  },
  {
   "cell_type": "code",
   "execution_count": null,
   "metadata": {},
   "outputs": [],
   "source": [
    "mask[np.triu_indices_from(mask)] = True\n",
    "mask"
   ]
  },
  {
   "cell_type": "code",
   "execution_count": null,
   "metadata": {},
   "outputs": [],
   "source": [
    "sns.heatmap(dg, mask=mask, vmin=-1, vmax=1, square=True)"
   ]
  },
  {
   "cell_type": "code",
   "execution_count": null,
   "metadata": {},
   "outputs": [],
   "source": [
    "sns.heatmap(dg, mask=mask, vmin=-1, vmax=1, square=True,\n",
    "            center=0,\n",
    "            annot=True)"
   ]
  },
  {
   "cell_type": "code",
   "execution_count": null,
   "metadata": {},
   "outputs": [],
   "source": [
    "sns.heatmap(dg, mask=mask, vmin=-1, vmax=1, square=True,\n",
    "            center=0,\n",
    "            annot=True,\n",
    "            fmt='.2f',\n",
    "            linewidths=.5)"
   ]
  },
  {
   "cell_type": "code",
   "execution_count": null,
   "metadata": {},
   "outputs": [],
   "source": [
    "# http://seaborn.pydata.org/tutorial/color_palettes.html\n",
    "# use hsl color in PowerPoint \n",
    "cmap = sns.diverging_palette(h_neg=0, h_pos=120, as_cmap=True)\n",
    "sns.heatmap(dg, mask=mask, vmin=-1, vmax=1, square=True,\n",
    "            center=0,\n",
    "            annot=True, fmt='.2f',\n",
    "            linewidths=.5,\n",
    "            cmap=cmap)"
   ]
  },
  {
   "cell_type": "code",
   "execution_count": null,
   "metadata": {},
   "outputs": [],
   "source": []
  }
 ],
 "metadata": {
  "language_info": {
   "name": "python",
   "pygments_lexer": "ipython3"
  }
 },
 "nbformat": 4,
 "nbformat_minor": 2
}

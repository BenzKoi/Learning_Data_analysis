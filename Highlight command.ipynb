{
 "cells": [
  {
   "cell_type": "markdown",
   "metadata": {},
   "source": [
    "np.where เอาไว้ใช้หาตำแหน่ง\n",
    "- df[np.where()]\n",
    "- df.sort_values(by='')\n",
    "- df.describe()\n",
    "- df.apply(ชื่อ function , axis=1)\n",
    "- df.apply(lamda x: x.max()) find the maximum of each type\n",
    "- เวลา plot ด้วย matplotlib ถ้า แกน x เดียวกัน และ y เดียวกัน สามารถ พิมพ์ทีละคำสั่ง และใส่คำว่า label ทีข้างท้าย ก็จะสามารถ plot ในกราฟเดียวกัน\n"
   ]
  },
  {
   "cell_type": "code",
   "execution_count": null,
   "metadata": {},
   "outputs": [],
   "source": [
    "import numpy as np\n",
    "import matplotlib.pyplot as plt\n",
    "import pandas as pd\n",
    "%matplotlib inline"
   ]
  },
  {
   "cell_type": "code",
   "execution_count": null,
   "metadata": {},
   "outputs": [],
   "source": [
    "# ต้องการแสดง 7 แถวบน 7 แถวล่าง เสมอ\n",
    "pd.set_option('max_rows', 14)\n",
    "# pd.reset_option('max_rows')"
   ]
  },
  {
   "cell_type": "code",
   "execution_count": null,
   "metadata": {},
   "outputs": [],
   "source": [
    "fig = plt.figure()\n",
    "ax1 = plt.subplot2grid((2,5), (0,0), rowspan=1, colspan=3)\n",
    "ax2 = plt.subplot2grid((2,5), (0,3), rowspan=1, colspan=2)\n",
    "ax3 = plt.subplot2grid((2,5), (1,0), rowspan=1, colspan=5)\n",
    "plt.show()"
   ]
  },
  {
   "cell_type": "code",
   "execution_count": null,
   "metadata": {},
   "outputs": [],
   "source": [
    "fig = plt.figure()\n",
    "ax1 = plt.subplot2grid((2,6), (0,0), rowspan=2, colspan=4)\n",
    "ax2 = plt.subplot2grid((2,6), (0,4), rowspan=1, colspan=2)\n",
    "ax3 = plt.subplot2grid((2,6), (1,4), rowspan=1, colspan=2)\n",
    "x = np.arange(6)\n",
    "ax1.plot(x, np.random.randint(1,11,x.size), color='red')\n",
    "ax2.bar(x, np.random.randint(1,11,x.size), color='lime')\n",
    "ax3.scatter(x, np.random.randint(1,11, x.size), color='orange')\n",
    "ax1.set_title('Line')\n",
    "ax2.set_title('Bar')\n",
    "ax3.set_title('Scatter')\n",
    "fig.tight_layout()\n",
    "plt.show()"
   ]
  },
  {
   "cell_type": "code",
   "execution_count": null,
   "metadata": {},
   "outputs": [],
   "source": [
    "df=pd.read_csv('https://github.com/prasertcbs/tutorial/raw/master/mpg.csv')\n",
    "df.head()"
   ]
  },
  {
   "cell_type": "code",
   "execution_count": null,
   "metadata": {},
   "outputs": [],
   "source": [
    "df[['cty','hwy']].hist(bins=20, grid=False, color='orange', sharex=True); # เฉพาะตัวเลขเท่านั้นที่เอามาสร้าง ใส่เครื่องหมาย ; เพื่อไม่ให้เห็น library"
   ]
  },
  {
   "cell_type": "code",
   "execution_count": null,
   "metadata": {},
   "outputs": [],
   "source": [
    "df[['cty','hwy']].plot.hist(alpha=.5)"
   ]
  },
  {
   "cell_type": "code",
   "execution_count": null,
   "metadata": {},
   "outputs": [],
   "source": [
    "df[['cty','hwy']].plot.kde(alpha=.5)"
   ]
  },
  {
   "cell_type": "code",
   "execution_count": null,
   "metadata": {},
   "outputs": [],
   "source": [
    "df.manufacturer.value_counts().plot.bar()\n",
    "plt.show()\n",
    "df.manufacturer.value_counts().sort_values().plot.barh()"
   ]
  },
  {
   "cell_type": "code",
   "execution_count": null,
   "metadata": {},
   "outputs": [],
   "source": [
    "df[['cty','hwy']].plot.box();\n",
    "plt.show()\n",
    "df[['cty','hwy']].boxplot();"
   ]
  },
  {
   "cell_type": "code",
   "execution_count": null,
   "metadata": {},
   "outputs": [],
   "source": [
    "df.boxplot(column=['cty','hwy'], grid=False);\n",
    "plt.show()\n",
    "df.boxplot(column=['cty','hwy'], by='class', grid=False, rot=90, figsize=(7,5));\n",
    "plt.show()\n",
    "df.boxplot(column=['cty','hwy'], by=['class','drv'], grid=False, rot=0, vert=False, figsize=(10,5));"
   ]
  },
  {
   "cell_type": "code",
   "execution_count": null,
   "metadata": {},
   "outputs": [],
   "source": [
    "%config InlineBackend.figure_format = 'retina' # เพิ่มความละเอียดให้กราฟ\n",
    "df.plot.scatter(x='displ', y='cty', grid=True, \n",
    "                title='City miles per gallon vs engine size(liters)', figsize=(10,5),\n",
    "               c=df.drv.map({'4':'green', 'f':'blue','r':'red'}), # c = color เลือก column และทำการ map โดยกำหนดสีตามชื่อที่อยู่ column นั้น\n",
    "               s=df.cyl*10, # ขนาดของเครื่องหมาย\n",
    "               alpha = 0.5,\n",
    "               ylim = (0,40),\n",
    "               xlim = (1,8));"
   ]
  },
  {
   "cell_type": "code",
   "execution_count": null,
   "metadata": {},
   "outputs": [],
   "source": [
    "from matplotlib.ticker import FuncFormatter # for custom number format on x and y axis"
   ]
  },
  {
   "cell_type": "code",
   "execution_count": null,
   "metadata": {},
   "outputs": [],
   "source": [
    "df.iloc[:,[0,2,4,7]].set_index('manufacturer')[:30].plot.bar(title='Manufacturer Car', figsize=(10,5));\n",
    "plt.show()\n",
    "df.iloc[:,[0,2,4,7]].set_index('manufacturer')[:30].plot.barh(title='Manufacturer Car', color=['gold','c','orange'], figsize=(10,8));"
   ]
  },
  {
   "cell_type": "code",
   "execution_count": null,
   "metadata": {},
   "outputs": [],
   "source": [
    "ax = df.iloc[:,[0,2,4,7]].set_index('manufacturer')[15:20].plot.bar(\n",
    "    title='Manufacturer Car', color=['gold','c','lime'], figsize=(10,5));\n",
    "ax.axhline(10, color=\".6\", linestyle=\"--\", linewidth=1)\n",
    "ax.set_ylabel('Number of cars')"
   ]
  },
  {
   "cell_type": "code",
   "execution_count": null,
   "metadata": {},
   "outputs": [],
   "source": [
    "df.head()"
   ]
  },
  {
   "cell_type": "code",
   "execution_count": null,
   "metadata": {},
   "outputs": [],
   "source": [
    "ax = df.nlargest(10, 'hwy').set_index('model')['hwy'].plot.barh(figsize=(10,5));\n",
    "ax.axvline(df.hwy.mean(), color='0.4', linestyle=\"--\", linewidth=1)"
   ]
  },
  {
   "cell_type": "code",
   "execution_count": null,
   "metadata": {},
   "outputs": [],
   "source": [
    "fig, ax = plt.subplots(1,3, sharex=True, sharey=True, figsize=(15,10))\n",
    "car_list = list(set(df.model.unique()[1:4]))\n",
    "color = ['gold', 'deepskyblue', 'tomato']\n",
    "variable = ['displ', 'cty', 'hwy']\n",
    "\n",
    "for i in range(len(variable)):\n",
    "    ax0 = df.set_index('model').loc[car_list, variable[i]].plot.barh(by='manufacturer',color=color[i], ax=ax[i], title=variable[i])\n",
    "    ax0.axvline(df.set_index('model')[variable[i]].mean(), color='.6', linestyle=\"--\", linewidth=1)\n"
   ]
  },
  {
   "cell_type": "code",
   "execution_count": null,
   "metadata": {},
   "outputs": [],
   "source": [
    "display(df.model.unique()[1:5])\n",
    "display(set(df.model.unique()[1:5]))\n",
    "display(list(set(df.model.unique()[1:5])))"
   ]
  },
  {
   "cell_type": "code",
   "execution_count": null,
   "metadata": {},
   "outputs": [],
   "source": [
    "df1 =pd.read_csv('https://github.com/prasertcbs/basic-dataset/raw/master/pisa2015.csv')\n",
    "df1.set_index('Country', inplace=True)\n",
    "df1[:5]"
   ]
  },
  {
   "cell_type": "code",
   "execution_count": null,
   "metadata": {},
   "outputs": [],
   "source": [
    "ax = df1[:10].plot.bar(stacked=True,figsize=(10,5), color=['gold','c','.6']);\n",
    "ax.axhline(df1.Maths.mean(), color='.1', linestyle=\"--\", linewidth=1)\n",
    "# จัดรูป หลักพัน\n",
    "ax.yaxis.set_major_formatter(FuncFormatter(lambda v, p:\"{:,.0f}\".format(v)))\n",
    "# จัดรูป %\n",
    "# ax.yaxis.set_major_formatter(FuncFormatter(lambda v, p:\"{:,.0f}%\".format(v*100)))\n",
    "# ทดลองเพิ่มเส้น แต่มันไม่ถูก\n",
    "ax.axhline(df1.Science.mean()+df1.Maths.mean(), color='maroon', linestyle=\"--\", linewidth=1)"
   ]
  },
  {
   "cell_type": "code",
   "execution_count": null,
   "metadata": {},
   "outputs": [],
   "source": [
    "display(df1.loc[['Thailand','Japan'],['Maths','Science']])\n",
    "display(df1.iloc[[1,3,17],0:5])\n",
    "df.iloc[2:7,df1.columns.str.match('(Mat|R)')]"
   ]
  },
  {
   "cell_type": "code",
   "execution_count": null,
   "metadata": {},
   "outputs": [],
   "source": [
    "df1.columns.str.match('(Mat|R)')"
   ]
  },
  {
   "cell_type": "code",
   "execution_count": null,
   "metadata": {},
   "outputs": [],
   "source": [
    "df.model.unique()"
   ]
  },
  {
   "cell_type": "code",
   "execution_count": null,
   "metadata": {},
   "outputs": [],
   "source": [
    "# เป็นการเปลี่ยนข้อมูลที่มีการซ้ำกันเยอะ และเราต้องการลดการจัดเก็บข้อมูลเลยเปลี่ยนเป็น category\n",
    "df['model2'] = df.model.astype('category')\n",
    "df.memory_usage(deep=True)"
   ]
  },
  {
   "cell_type": "code",
   "execution_count": null,
   "metadata": {},
   "outputs": [],
   "source": [
    "df[['displ','cyl']].agg(['min','max','std'])"
   ]
  },
  {
   "cell_type": "code",
   "execution_count": null,
   "metadata": {},
   "outputs": [],
   "source": [
    "df.groupby(['class','year'])[['cty','hwy']].agg(['mean','min'])"
   ]
  },
  {
   "cell_type": "code",
   "execution_count": null,
   "metadata": {},
   "outputs": [],
   "source": [
    "ax = df.groupby('class').cty.mean().sort_values().plot.barh(color='c')\n",
    "ax.axvline(df.groupby('class').cty.mean().mean(), linestyle='--', color='gold')"
   ]
  },
  {
   "cell_type": "code",
   "execution_count": null,
   "metadata": {},
   "outputs": [],
   "source": [
    "pd.crosstab(df.drv, df['class']).plot.bar(figsize=(10,5))"
   ]
  },
  {
   "cell_type": "code",
   "execution_count": null,
   "metadata": {},
   "outputs": [],
   "source": [
    "(pd.crosstab(df.drv, df['class'], margins=True, normalize='all')*100).round(1)"
   ]
  },
  {
   "cell_type": "code",
   "execution_count": null,
   "metadata": {},
   "outputs": [],
   "source": [
    "pd.crosstab([df.drv, df.manufacturer], df['class'], margins=True, values=df.cty, aggfunc=np.average)"
   ]
  },
  {
   "cell_type": "code",
   "execution_count": null,
   "metadata": {},
   "outputs": [],
   "source": [
    "pd.crosstab([df.drv, df.manufacturer], df['class'], \n",
    "            margins=True, values=df.cty, aggfunc=np.average).sort_index().loc[['r','f']]"
   ]
  },
  {
   "cell_type": "markdown",
   "metadata": {},
   "source": [
    "## การใช้งาน lambda"
   ]
  },
  {
   "cell_type": "code",
   "execution_count": null,
   "metadata": {},
   "outputs": [],
   "source": [
    "t = list(range(0,100,10))\n",
    "x= list(map(lambda c: c*9/5+32, t))\n",
    "x"
   ]
  },
  {
   "cell_type": "code",
   "execution_count": null,
   "metadata": {},
   "outputs": [],
   "source": [
    "rectangle = lambda w, h: w*h\n",
    "rectangle(7,10)"
   ]
  },
  {
   "cell_type": "code",
   "execution_count": null,
   "metadata": {},
   "outputs": [],
   "source": [
    "df7 = pd.DataFrame({'weight': t,\n",
    "                   'height': np.random.randint(15, 50, len(t))})\n",
    "df7"
   ]
  },
  {
   "cell_type": "code",
   "execution_count": null,
   "metadata": {},
   "outputs": [],
   "source": [
    "df7.height.map(lambda s: 'pass' if s > 30 else 'fail') # เรียก 1 ค่าใน 1 row ใช้ map"
   ]
  },
  {
   "cell_type": "code",
   "execution_count": null,
   "metadata": {},
   "outputs": [],
   "source": [
    "df7['Total']= df7.apply(lambda s: s.height+s.weight, axis=1) # เรียก 2 ตัว และใช้ค่าทีละ row เลยใส่ axis = 1 แต่ถ้าเป็นบนลงล่าง axis = 0"
   ]
  },
  {
   "cell_type": "code",
   "execution_count": null,
   "metadata": {},
   "outputs": [],
   "source": [
    "df7['Total_weight'] = df7.apply(lambda s: 'no' if s.height*.5 + s.weight*.1 > 15 else 'pass', axis =1)"
   ]
  },
  {
   "cell_type": "code",
   "execution_count": null,
   "metadata": {},
   "outputs": [],
   "source": [
    "df7"
   ]
  },
  {
   "cell_type": "code",
   "execution_count": null,
   "metadata": {},
   "outputs": [],
   "source": [
    "df['trans_am'] = df.trans.map(lambda x: 'Auto' if x[0]=='a' else 'Manual').astype('category')\n",
    "df.head()"
   ]
  },
  {
   "cell_type": "code",
   "execution_count": null,
   "metadata": {},
   "outputs": [],
   "source": [
    "df['gear_t'] = df.trans.str[0].map({'a':'Auto', 'm':'Manual'}).astype('category')\n",
    "df.head(10)"
   ]
  },
  {
   "cell_type": "code",
   "execution_count": null,
   "metadata": {},
   "outputs": [],
   "source": [
    "df['drv2'] = df.drv.map({'f':'Front', 'r': 'Rear', '4':'4-wheel'}).astype('category')\n",
    "df.head(10)"
   ]
  },
  {
   "cell_type": "code",
   "execution_count": null,
   "metadata": {},
   "outputs": [],
   "source": [
    "df[['manufacturer','model','class']]  = df[['manufacturer','model','class']].applymap(str.capitalize) # ใช้กับ ทุก columns ที่เลือก"
   ]
  },
  {
   "cell_type": "code",
   "execution_count": null,
   "metadata": {},
   "outputs": [],
   "source": [
    "df.head(10)"
   ]
  },
  {
   "cell_type": "code",
   "execution_count": null,
   "metadata": {},
   "outputs": [],
   "source": [
    "df['model2'] = df['model2'].apply(str.capitalize)"
   ]
  },
  {
   "cell_type": "code",
   "execution_count": null,
   "metadata": {},
   "outputs": [],
   "source": [
    "df.head(10)"
   ]
  },
  {
   "cell_type": "code",
   "execution_count": null,
   "metadata": {},
   "outputs": [],
   "source": [
    "df.head()[['manufacturer','model','class']].apply(lambda x : x.str.upper())"
   ]
  },
  {
   "cell_type": "code",
   "execution_count": null,
   "metadata": {},
   "outputs": [],
   "source": [
    "df[32:39].apply(lambda x: f'{x.manufacturer}( {x.model} , {x.trans} )', axis=1)"
   ]
  },
  {
   "cell_type": "code",
   "execution_count": null,
   "metadata": {},
   "outputs": [],
   "source": [
    "df.iloc[[1,15,30,25,48,78],].apply(lambda x: f'{x.cty*0.458:4.1f} / {x.hwy*0.458:5.2f}', axis=1)"
   ]
  },
  {
   "cell_type": "code",
   "execution_count": null,
   "metadata": {},
   "outputs": [],
   "source": [
    "(df.select_dtypes(include=[np.number]).drop('year', axis=1).apply(np.mean)).round(4)"
   ]
  },
  {
   "cell_type": "markdown",
   "metadata": {},
   "source": [
    "## การเลือกแถวข้อมูลด้วยเงื่อนไข"
   ]
  },
  {
   "cell_type": "code",
   "execution_count": null,
   "metadata": {},
   "outputs": [],
   "source": [
    "df[(df.manufacturer != 'Toyota') & (df.cty > 25)]  # ต้องใส่วงเล็บด้วยในแต่ละเงื่อนไข"
   ]
  },
  {
   "cell_type": "code",
   "execution_count": null,
   "metadata": {},
   "outputs": [],
   "source": [
    "df[(df.manufacturer == 'Toyota') | (df.cty > 30)].head()"
   ]
  },
  {
   "cell_type": "code",
   "execution_count": null,
   "metadata": {},
   "outputs": [],
   "source": [
    "df[~df.manufacturer.isin(['Toyota','Audi'])].head(10)"
   ]
  },
  {
   "cell_type": "code",
   "execution_count": null,
   "metadata": {},
   "outputs": [],
   "source": [
    "df[(df.manufacturer.str.contains('H')) & (df.cty > 22)].head(10)"
   ]
  },
  {
   "cell_type": "code",
   "execution_count": null,
   "metadata": {},
   "outputs": [],
   "source": [
    "df.query(('manufacturer == \"Honda\"'))"
   ]
  },
  {
   "cell_type": "code",
   "execution_count": null,
   "metadata": {},
   "outputs": [],
   "source": [
    "df.query('25 < cty <= 27')"
   ]
  },
  {
   "cell_type": "code",
   "execution_count": null,
   "metadata": {},
   "outputs": [],
   "source": [
    "df.query('manufacturer == \"Toyota\" and cty > 27')"
   ]
  },
  {
   "cell_type": "code",
   "execution_count": null,
   "metadata": {},
   "outputs": [],
   "source": [
    "grp = df.groupby('drv')\n",
    "grp.ngroups"
   ]
  },
  {
   "cell_type": "code",
   "execution_count": null,
   "metadata": {},
   "outputs": [],
   "source": [
    "grp.groups"
   ]
  },
  {
   "cell_type": "code",
   "execution_count": null,
   "metadata": {},
   "outputs": [],
   "source": [
    "grp.apply(lambda g: g.sample(n=3))"
   ]
  },
  {
   "cell_type": "code",
   "execution_count": null,
   "metadata": {},
   "outputs": [],
   "source": [
    "grp.apply(lambda g: g.sample(frac=.1))"
   ]
  },
  {
   "cell_type": "code",
   "execution_count": null,
   "metadata": {},
   "outputs": [],
   "source": [
    "df[df.drv=='f'].sample(3)"
   ]
  },
  {
   "cell_type": "code",
   "execution_count": null,
   "metadata": {},
   "outputs": [],
   "source": [
    "d = [df[df.drv == i].sample(3) for i in df.drv.unique()]\n",
    "pd.concat(d)"
   ]
  },
  {
   "cell_type": "code",
   "execution_count": null,
   "metadata": {},
   "outputs": [],
   "source": [
    "w = {'f':5, 'r':2, '4':3}\n",
    "for k,v in w.items():\n",
    "    print(f'key={k}, value={v}')\n",
    "    print(df[df.drv == k].sample(v))"
   ]
  },
  {
   "cell_type": "code",
   "execution_count": null,
   "metadata": {},
   "outputs": [],
   "source": [
    "q = [df[df.drv == k].sample(v) for k,v in w.items()]\n",
    "pd.concat(q)"
   ]
  },
  {
   "cell_type": "markdown",
   "metadata": {},
   "source": [
    "## Train-Test spliting"
   ]
  },
  {
   "cell_type": "code",
   "execution_count": null,
   "metadata": {},
   "outputs": [],
   "source": [
    "def split2(df, train_ratio=.7):\n",
    "    df_train = df.sample(frac=train_ratio)\n",
    "    df_test = df[~df.index.isin(df_train.index)]\n",
    "    return [df_train, df_test]"
   ]
  },
  {
   "cell_type": "code",
   "execution_count": null,
   "metadata": {},
   "outputs": [],
   "source": [
    "df_train, df_test = split2(df)"
   ]
  },
  {
   "cell_type": "code",
   "execution_count": null,
   "metadata": {},
   "outputs": [],
   "source": [
    "df_train1, df_test1 = split2(df,0.8)"
   ]
  },
  {
   "cell_type": "code",
   "execution_count": null,
   "metadata": {},
   "outputs": [],
   "source": [
    "df_train3, df_temp = split2(df, .6)\n",
    "df_validation3, df_test3 = split2(df_temp, .5)"
   ]
  },
  {
   "cell_type": "markdown",
   "metadata": {},
   "source": [
    "## Seaborn"
   ]
  },
  {
   "cell_type": "code",
   "execution_count": null,
   "metadata": {},
   "outputs": [],
   "source": [
    "import seaborn as sns\n",
    "sns.distplot(df.cty, kde=False, label='city')\n",
    "plt.axvline(x=df.cty.mean(), color='orange', linestyle='--')\n",
    "plt.title(f'mean = {df.cty.mean():.2f}, sd = {df.cty.std():.2f}')"
   ]
  },
  {
   "cell_type": "code",
   "execution_count": null,
   "metadata": {},
   "outputs": [],
   "source": [
    "sns.distplot(df.cty, kde=True, label='city')\n",
    "sns.distplot(df.hwy, kde=True, label='highway')\n",
    "plt.legend()"
   ]
  },
  {
   "cell_type": "code",
   "execution_count": null,
   "metadata": {},
   "outputs": [],
   "source": [
    "fig, ax = plt.subplots(1,2, sharey=True, sharex=True)\n",
    "sns.distplot(df.cty, kde=False, label='city', color='r', ax=ax[0])\n",
    "sns.distplot(df.hwy, kde=False, label='highway', color='c', ax=ax[1])"
   ]
  },
  {
   "cell_type": "code",
   "execution_count": null,
   "metadata": {},
   "outputs": [],
   "source": [
    "sns.countplot(x='class', data=df, order=df['class'].value_counts().index, palette='Set2')\n",
    "plt.axhline(df['class'].value_counts().mean(), color='.2', linestyle='--')"
   ]
  },
  {
   "cell_type": "code",
   "execution_count": null,
   "metadata": {},
   "outputs": [],
   "source": [
    "sns.countplot(y='class', data=df, order=df['class'].value_counts().index, palette='Set2')\n",
    "plt.axvline(df['class'].value_counts().mean(), color='.2', linestyle='--')"
   ]
  },
  {
   "cell_type": "code",
   "execution_count": null,
   "metadata": {},
   "outputs": [],
   "source": [
    "plt.figure(figsize=(12,7))\n",
    "sns.countplot(y='class', data=df, order=df['class'].value_counts().index, hue='drv2', palette=['lawngreen','tomato'])\n",
    "plt.title('Test_title', fontsize=15)\n",
    "plt.xlabel('count', fontsize=15)\n",
    "plt.ylabel('Class', fontsize=15)"
   ]
  },
  {
   "cell_type": "code",
   "execution_count": null,
   "metadata": {},
   "outputs": [],
   "source": [
    "plt.figure(figsize=(12,7))\n",
    "sns.factorplot(y='drv', x='cty', data=df, kind='box', row='year', palette='Set2')"
   ]
  },
  {
   "cell_type": "code",
   "execution_count": null,
   "metadata": {},
   "outputs": [],
   "source": [
    "plt.figure(figsize=(12,7))\n",
    "sns.factorplot(y='drv', x='cty', data=df, kind='box', col='year', palette='hls')"
   ]
  },
  {
   "cell_type": "code",
   "execution_count": null,
   "metadata": {},
   "outputs": [],
   "source": [
    "plt.figure(figsize=(12,7))\n",
    "sns.factorplot(y='drv', x='cty', data=df, kind='box', row='trans_am', col='year', palette=['gold','c','grey'], size=5, aspect=1.2)"
   ]
  },
  {
   "cell_type": "markdown",
   "metadata": {},
   "source": [
    "ข้อสังเกตุเราต้องรู้ก่อนว่าแต่ละ columns เป็นข้อมูลแบบไหน เช่น \n",
    "- long format คือข้อมูลประเภทเดียวกันแต่เก็บแยก column \n",
    "- wide format คือข้อมูลคนละประเภทและเก็บอยู่คนละ column เช่น ตัวนึงเป็นตัวเลข และอีกตัวเป็นตัวบอกรูปแบบ"
   ]
  },
  {
   "cell_type": "markdown",
   "metadata": {},
   "source": [
    "#### Wide format"
   ]
  },
  {
   "cell_type": "code",
   "execution_count": null,
   "metadata": {},
   "outputs": [],
   "source": [
    "df.rename(columns={'trans_am':'gear'}, inplace=True)\n",
    "df.columns"
   ]
  },
  {
   "cell_type": "code",
   "execution_count": null,
   "metadata": {},
   "outputs": [],
   "source": [
    "sns.barplot(data=[df.cty,df.hwy])"
   ]
  },
  {
   "cell_type": "code",
   "execution_count": null,
   "metadata": {},
   "outputs": [],
   "source": [
    "sns.barplot(data=df[['cty','hwy']]) # สีดำ error bar ที่ 95 % CI"
   ]
  },
  {
   "cell_type": "markdown",
   "metadata": {},
   "source": [
    "#### Long format"
   ]
  },
  {
   "cell_type": "code",
   "execution_count": null,
   "metadata": {},
   "outputs": [],
   "source": [
    "sns.barplot(x='gear', y='cty',hue='drv', data=df); # สิ่งที่เอามา plot or estimator คือ ค่า Mean"
   ]
  },
  {
   "cell_type": "code",
   "execution_count": null,
   "metadata": {},
   "outputs": [],
   "source": [
    "df.groupby('drv2')['cty'].describe()"
   ]
  },
  {
   "cell_type": "code",
   "execution_count": null,
   "metadata": {},
   "outputs": [],
   "source": [
    "sns.barplot(x='drv2', y='cty', data=df) # สังเกตุเทียบจากตารางข้างบน"
   ]
  },
  {
   "cell_type": "code",
   "execution_count": null,
   "metadata": {},
   "outputs": [],
   "source": [
    "sns.barplot(x='drv2', y='cty', data=df, estimator=max, ci=None) # ci = confidence interval and plot with maximum value"
   ]
  },
  {
   "cell_type": "code",
   "execution_count": null,
   "metadata": {},
   "outputs": [],
   "source": [
    "plt.figure(figsize=(10,5))\n",
    "sns.barplot(x='drv2', y='cty', data=df, estimator=np.median, \n",
    "            errcolor='black', capsize=.1, ci='sd', \n",
    "            palette={'Front':'gold', '4-wheel':'c','Rear':'.6'}, \n",
    "            order=['Front','4-wheel','Rear']    \n",
    "           ) \n",
    "plt.axhline(df.cty.mean(), color='.4', linestyle='--')\n",
    "plt.xlabel('')\n",
    "plt.ylabel('city per mile gallon')\n",
    "plt.title('Fuel efficiency by drive wheels')"
   ]
  },
  {
   "cell_type": "code",
   "execution_count": null,
   "metadata": {},
   "outputs": [],
   "source": [
    "sns.factorplot(x='drv2', y='cty', data=df,\n",
    "              hue='gear', col='year',\n",
    "              kind='bar', size=5, aspect=1,\n",
    "              palette=['gold','c']); # size = ความกว้าง และ ความสูง ช aspect * ความกว้าง  "
   ]
  },
  {
   "cell_type": "code",
   "execution_count": null,
   "metadata": {},
   "outputs": [],
   "source": [
    "df"
   ]
  },
  {
   "cell_type": "code",
   "execution_count": null,
   "metadata": {},
   "outputs": [],
   "source": [
    "xtab = pd.crosstab(df.drv2, df['class'])\n",
    "xtab.head()"
   ]
  },
  {
   "cell_type": "code",
   "execution_count": null,
   "metadata": {},
   "outputs": [],
   "source": [
    "sns.heatmap(xtab, robust=True)"
   ]
  },
  {
   "cell_type": "code",
   "execution_count": null,
   "metadata": {},
   "outputs": [],
   "source": [
    "import seaborn as sns; sns.set(color_codes=True)\n",
    "iris = sns.load_dataset(\"iris\")\n",
    "species = iris.pop(\"species\")\n",
    "\n",
    "lut = dict(zip(species.unique(), \"rmc\"))\n",
    "row_colors = species.map(lut)\n",
    "g = sns.clustermap(iris, row_colors=row_colors, cmap='vlag',  z_score=1)\n",
    "# figsize=(8,8),\n",
    "\n",
    "\n",
    "# g = sns.clustermap(iris)"
   ]
  },
  {
   "cell_type": "code",
   "execution_count": null,
   "metadata": {},
   "outputs": [],
   "source": [
    "import numpy as np\n",
    "from sklearn import metrics"
   ]
  },
  {
   "cell_type": "code",
   "execution_count": null,
   "metadata": {},
   "outputs": [],
   "source": [
    "y = np.array([1,1,2,2])\n",
    "pred = np.array([0.1,0.4,0.35,0.8])"
   ]
  },
  {
   "cell_type": "code",
   "execution_count": null,
   "metadata": {},
   "outputs": [],
   "source": [
    "fpr, tpr, thresholds = metrics.roc_curve(y, pred, pos_label=2)"
   ]
  },
  {
   "cell_type": "code",
   "execution_count": null,
   "metadata": {},
   "outputs": [],
   "source": [
    "fpr"
   ]
  },
  {
   "cell_type": "code",
   "execution_count": null,
   "metadata": {},
   "outputs": [],
   "source": [
    "tpr"
   ]
  },
  {
   "cell_type": "code",
   "execution_count": null,
   "metadata": {},
   "outputs": [],
   "source": [
    "metrics.auc(fpr, tpr)"
   ]
  },
  {
   "cell_type": "code",
   "execution_count": null,
   "metadata": {},
   "outputs": [],
   "source": [
    "y_values = [13, 45.3, 12, 1, 476, 0]\n",
    "interval = 1.2\n",
    "\n",
    "def integrate(y_vals, h):\n",
    "    i = 1\n",
    "    total = y_vals[0] + y_vals[-1]\n",
    "    for y in y_vals[1:-1]:\n",
    "        if i % 2 == 0:\n",
    "            total += 2 * y\n",
    "        else:\n",
    "            total += 4 * y\n",
    "        i += 1\n",
    "    return total * (h / 3.0)\n",
    "\n",
    "area = integrate(y_values, interval)\n",
    "print(\"The area is\", area)"
   ]
  },
  {
   "cell_type": "code",
   "execution_count": null,
   "metadata": {},
   "outputs": [],
   "source": [
    "y_values[1:-1]"
   ]
  },
  {
   "cell_type": "code",
   "execution_count": null,
   "metadata": {},
   "outputs": [],
   "source": [
    "from random import randint\n",
    "test = [randint(100, 900) for _ in range(21)]\n",
    "med = np.median(test)\n",
    "norm_test =[np.round(i/med * 100,3) for i in test]\n",
    "idea_test = [x-np.median(norm_test) for x in norm_test]\n",
    "sigmoid_test = [sigmoid(i) for i in norm_test]\n",
    "sigmoid_idea_test = [sigmoid(i) for i in idea_test]\n",
    "[print('{} => {} => {} => {}'.format(test[j], norm_test[j], sigmoid_test[j], sigmoid_idea_test[j])) for j in range(len(test))]\n",
    "print(med)\n",
    "\n",
    "print('\\n')\n",
    "\n",
    "robust_zscore = [ np.round((i - med)/mad(test),5) for i in test]\n",
    "idea1_test = [x-np.median(robust_zscore) for x in robust_zscore]\n",
    "sigmoid_idea1_test = [sigmoid(i) for i in robust_zscore]\n",
    "[print('{} => {} => {}'.format(test[j], robust_zscore[j], sigmoid_idea1_test[j])) for j in range(len(test))]\n",
    "print('z-score')\n",
    "\n",
    "\n"
   ]
  },
  {
   "cell_type": "code",
   "execution_count": null,
   "metadata": {},
   "outputs": [],
   "source": [
    "import math\n",
    "\n",
    "def sigmoid(x):\n",
    "  return np.round(1 / (1 + math.exp(-x)),5)\n",
    "\n",
    "def mad(arr):\n",
    "    arr = np.ma.array(arr).compressed() # should be faster to not use masked arrays.\n",
    "    med = np.median(arr)\n",
    "    return np.median(np.abs(arr - med))"
   ]
  },
  {
   "cell_type": "code",
   "execution_count": null,
   "metadata": {},
   "outputs": [],
   "source": [
    "t = np.array([randint(10, 30) for _ in range(9)])\n",
    "print(sorted(t), np.median(t))"
   ]
  },
  {
   "cell_type": "code",
   "execution_count": null,
   "metadata": {},
   "outputs": [],
   "source": [
    "print(sorted(test), np.median(test))"
   ]
  },
  {
   "cell_type": "code",
   "execution_count": null,
   "metadata": {},
   "outputs": [],
   "source": []
  }
 ],
 "metadata": {
  "language_info": {
   "name": "python",
   "pygments_lexer": "ipython3"
  }
 },
 "nbformat": 4,
 "nbformat_minor": 2
}

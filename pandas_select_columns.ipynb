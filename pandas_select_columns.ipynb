{
 "cells": [
  {
   "cell_type": "code",
   "execution_count": null,
   "metadata": {},
   "outputs": [],
   "source": [
    "import pandas as pd"
   ]
  },
  {
   "cell_type": "code",
   "execution_count": null,
   "metadata": {},
   "outputs": [],
   "source": [
    "df = pd.read_csv('https://github.com/prasertcbs/tutorial/raw/master/score.csv', nrows=5)\n",
    "df"
   ]
  },
  {
   "cell_type": "code",
   "execution_count": null,
   "metadata": {},
   "outputs": [],
   "source": [
    "df[['eng1', 'eng2', 'eng3']]"
   ]
  },
  {
   "cell_type": "code",
   "execution_count": null,
   "metadata": {},
   "outputs": [],
   "source": [
    "df.loc[:, 'eng1':'eng3']"
   ]
  },
  {
   "cell_type": "code",
   "execution_count": null,
   "metadata": {},
   "outputs": [],
   "source": [
    "df.loc[:, 'math2':'eng3']"
   ]
  },
  {
   "cell_type": "code",
   "execution_count": null,
   "metadata": {},
   "outputs": [],
   "source": [
    "df.columns"
   ]
  },
  {
   "cell_type": "code",
   "execution_count": null,
   "metadata": {},
   "outputs": [],
   "source": [
    "df.columns.str.contains('eng')"
   ]
  },
  {
   "cell_type": "code",
   "execution_count": null,
   "metadata": {},
   "outputs": [],
   "source": [
    "df.columns[df.columns.str.contains('eng')]"
   ]
  },
  {
   "cell_type": "code",
   "execution_count": null,
   "metadata": {},
   "outputs": [],
   "source": [
    "df[df.columns[df.columns.str.contains('eng')]]"
   ]
  },
  {
   "cell_type": "code",
   "execution_count": null,
   "metadata": {},
   "outputs": [],
   "source": [
    "df[df.columns[df.columns.str.contains('1')]]"
   ]
  },
  {
   "cell_type": "code",
   "execution_count": null,
   "metadata": {},
   "outputs": [],
   "source": [
    "# เป็นการเขียนคำสั่ง เพื่อเอา เฉพาะ col ที่ลงท้ายด้วย เลข 1\n",
    "# การใส่ r'\\w+ คือเป็นอะไรก็ได้ เค้าเรียกว่า raw string\n",
    "# การใส่ $ เพื่อบอกว่าเป็นตัวสุดท้าย\n",
    "df[df.columns[df.columns.str.match(r'\\w+1$')]]"
   ]
  },
  {
   "cell_type": "code",
   "execution_count": null,
   "metadata": {},
   "outputs": [],
   "source": [
    "# เป็นการเขียนคำสั่ง เพื่อเอา เฉพาะ col ที่ลงท้ายด้วย เลข 1 หรือ 2\n",
    "df[df.columns[df.columns.str.match(r'\\w+[12]$')]]"
   ]
  },
  {
   "cell_type": "code",
   "execution_count": null,
   "metadata": {},
   "outputs": [],
   "source": [
    "df['math_total']=df.math1 + df.math2 + df.math3\n",
    "df"
   ]
  },
  {
   "cell_type": "code",
   "execution_count": null,
   "metadata": {},
   "outputs": [],
   "source": [
    "# เป็นการเลือกเอา column ที่ขึ้นต้นด้วยคำว่า math และ มีตัวเลขอย่างน้อย 1 ตัวขึ้นไป\n",
    "print(df.columns.str.match(r'^math\\d{1,}'))\n",
    "df.columns[df.columns.str.match(r'^math\\d{1,}')]"
   ]
  },
  {
   "cell_type": "code",
   "execution_count": null,
   "metadata": {},
   "outputs": [],
   "source": [
    "df['math_total'] = df[df.columns[df.columns.str.match(r'^math\\d{1,}')]].sum(axis=1)\n",
    "df['eng_total'] = df[df.columns[df.columns.str.match(r'^eng\\d{1,}')]].sum(axis=1)\n",
    "df['sci_total'] = df[df.columns[df.columns.str.match(r'^sci\\d{1,}')]].sum(axis=1)\n",
    "df"
   ]
  },
  {
   "cell_type": "code",
   "execution_count": null,
   "metadata": {},
   "outputs": [],
   "source": [
    "df['math_total1'] = df[['math1', 'math2', 'math3']].sum(axis=1)"
   ]
  },
  {
   "cell_type": "code",
   "execution_count": null,
   "metadata": {},
   "outputs": [],
   "source": [
    "df"
   ]
  },
  {
   "cell_type": "code",
   "execution_count": null,
   "metadata": {},
   "outputs": [],
   "source": [
    "del df['math_total1']"
   ]
  },
  {
   "cell_type": "code",
   "execution_count": null,
   "metadata": {},
   "outputs": [],
   "source": [
    "df"
   ]
  },
  {
   "cell_type": "code",
   "execution_count": null,
   "metadata": {},
   "outputs": [],
   "source": [
    "# .* คือ เป็นการขึ้นตัวด้วยอะไรก็ได้\n",
    "# การเลือกชื่อ column มีสองแบบ คือใช้คำว่า match or contains\n",
    "df['total'] = df[df.columns[df.columns.str.match(r'.*total$')]].sum(axis=1)"
   ]
  },
  {
   "cell_type": "code",
   "execution_count": null,
   "metadata": {},
   "outputs": [],
   "source": [
    "df"
   ]
  },
  {
   "cell_type": "code",
   "execution_count": null,
   "metadata": {},
   "outputs": [],
   "source": [
    "df['total'] = df[df.columns[df.columns.str.contains(r'_total')]].sum(axis=1)\n",
    "df"
   ]
  },
  {
   "cell_type": "code",
   "execution_count": null,
   "metadata": {},
   "outputs": [],
   "source": [
    "# เป็นการเลือก column ที่มีคำว่า math or sci \n",
    "df.columns[df.columns.str.contains('math|sci')]"
   ]
  },
  {
   "cell_type": "code",
   "execution_count": null,
   "metadata": {},
   "outputs": [],
   "source": [
    "# เป็นการเลือก column ที่เริ่มต้นด้วยคำว่า math or sci และต้องมีการลงท้ายด้วยตัวเลข\n",
    "df.columns[df.columns.str.match(r'^(math|sci)\\d{1,}')]"
   ]
  },
  {
   "cell_type": "code",
   "execution_count": null,
   "metadata": {},
   "outputs": [],
   "source": [
    "df[df.columns[df.columns.str.match(r'^(math|sci)\\d{1,}')]]"
   ]
  },
  {
   "cell_type": "code",
   "execution_count": null,
   "metadata": {},
   "outputs": [],
   "source": [
    "df.columns[df.columns.str.startswith(tuple(['math_','eng']))]"
   ]
  },
  {
   "cell_type": "code",
   "execution_count": null,
   "metadata": {},
   "outputs": [],
   "source": []
  }
 ],
 "metadata": {
  "language_info": {
   "name": "python",
   "pygments_lexer": "ipython3"
  }
 },
 "nbformat": 4,
 "nbformat_minor": 2
}

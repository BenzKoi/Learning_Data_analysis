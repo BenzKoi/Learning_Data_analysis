{
 "cells": [
  {
   "cell_type": "markdown",
   "metadata": {},
   "source": [
    "# seaborn (subplot/subplots) "
   ]
  },
  {
   "cell_type": "code",
   "execution_count": null,
   "metadata": {},
   "outputs": [],
   "source": [
    "import pandas as pd\n",
    "import matplotlib.pyplot as plt\n",
    "%matplotlib inline\n",
    "import seaborn as sns\n",
    "%config InlineBackend.figure_format = 'retina'"
   ]
  },
  {
   "cell_type": "code",
   "execution_count": null,
   "metadata": {},
   "outputs": [],
   "source": [
    "print(f\"pandas  version = {pd.__version__}\")\n",
    "print(f\"seaborn version = {sns.__version__}\")"
   ]
  },
  {
   "cell_type": "markdown",
   "metadata": {},
   "source": [
    "## read mpg.csv"
   ]
  },
  {
   "cell_type": "code",
   "execution_count": null,
   "metadata": {},
   "outputs": [],
   "source": [
    "url='https://github.com/prasertcbs/tutorial/raw/master/mpg.csv'\n",
    "df=pd.read_csv(url)\n",
    "df.head()"
   ]
  },
  {
   "cell_type": "markdown",
   "metadata": {},
   "source": [
    "## convert miles per gallon to kilometers per litre "
   ]
  },
  {
   "cell_type": "code",
   "execution_count": null,
   "metadata": {},
   "outputs": [],
   "source": [
    "df['cty_kml'] = (df.cty * 0.425144).round(0)\n",
    "df['hwy_kml'] = (df.hwy * 0.425144).round(0)"
   ]
  },
  {
   "cell_type": "code",
   "execution_count": null,
   "metadata": {},
   "outputs": [],
   "source": [
    "df.head()"
   ]
  },
  {
   "cell_type": "markdown",
   "metadata": {},
   "source": [
    "## create 'gear' column from trans"
   ]
  },
  {
   "cell_type": "code",
   "execution_count": null,
   "metadata": {},
   "outputs": [],
   "source": [
    "df['gear']=df.trans.str[0].map({'a':'auto', 'm':'manual'}).astype(\"category\")\n",
    "df.head()"
   ]
  },
  {
   "cell_type": "code",
   "execution_count": null,
   "metadata": {},
   "outputs": [],
   "source": [
    "x_col=\"class\"\n",
    "y_col=\"hwy_kml\"\n",
    "\n",
    "fig = plt.figure(figsize=(14,12))\n",
    "fig.add_subplot(321)\n",
    "sns.boxplot(x=x_col, y=y_col, data=df)\n",
    "fig.add_subplot(322)\n",
    "sns.violinplot(x=x_col, y=y_col, data=df)\n",
    "fig.add_subplot(323)\n",
    "sns.swarmplot(x=x_col, y=y_col, data=df)\n",
    "fig.add_subplot(324)\n",
    "sns.stripplot(x=x_col, y=y_col, data=df)\n",
    "fig.add_subplot(325)\n",
    "sns.countplot(x=\"class\", data=df)\n",
    "fig.add_subplot(326)\n",
    "sns.countplot(y=\"gear\", hue=\"year\", data=df)"
   ]
  },
  {
   "cell_type": "code",
   "execution_count": null,
   "metadata": {},
   "outputs": [],
   "source": [
    "# fig, ax = plt.subplots(2, 2, sharex=True, sharey=True, figsize=(14,9))\n",
    "fig, ax = plt.subplots(2, 2, figsize=(14,9), sharey=True, sharex=True)\n",
    "print(ax.shape)\n",
    "x_col=\"class\"\n",
    "y_col=\"hwy_kml\"\n",
    "sns.boxplot(x=x_col, y=y_col, data=df, ax=ax[0,0])\n",
    "sns.violinplot(x=x_col, y=y_col, data=df, ax=ax[0,1])\n",
    "sns.swarmplot(x=x_col, y=y_col, data=df, ax=ax[1,0])\n",
    "sns.stripplot(x=x_col, y=y_col, data=df, ax=ax[1,1])\n",
    "# sns.kdeplot(df[y_col], ax=ax[1,0])\n",
    "# sns.distplot(df[y_col], ax=ax[1,1])"
   ]
  },
  {
   "cell_type": "code",
   "execution_count": null,
   "metadata": {},
   "outputs": [],
   "source": [
    "# fig, ax = plt.subplots(2, 2, figsize=(14,9), sharey=True, sharex=True)\n",
    "fig, ax = plt.subplots(3, 2, figsize=(14,12))\n",
    "\n",
    "print(ax.shape)\n",
    "x_col=\"class\"\n",
    "y_col=\"hwy_kml\"\n",
    "sns.boxplot(x=x_col, y=y_col, data=df, ax=ax[0,0])\n",
    "sns.violinplot(x=x_col, y=y_col, data=df, ax=ax[0,1])\n",
    "sns.swarmplot(x=x_col, y=y_col, data=df, ax=ax[1,0])\n",
    "sns.stripplot(x=x_col, y=y_col, data=df, ax=ax[1,1])\n",
    "sns.kdeplot(df[y_col], ax=ax[2,0])\n",
    "sns.distplot(df[y_col], ax=ax[2,1])\n",
    "plt.xlabel(\"\");"
   ]
  },
  {
   "cell_type": "code",
   "execution_count": null,
   "metadata": {},
   "outputs": [],
   "source": []
  }
 ],
 "metadata": {
  "language_info": {
   "name": "python",
   "pygments_lexer": "ipython3"
  }
 },
 "nbformat": 4,
 "nbformat_minor": 2
}

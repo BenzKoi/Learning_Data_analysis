{
 "cells": [
  {
   "cell_type": "markdown",
   "metadata": {},
   "source": [
    "# seaborn (factorplot)\n",
    "for long format data"
   ]
  },
  {
   "cell_type": "code",
   "execution_count": null,
   "metadata": {},
   "outputs": [],
   "source": [
    "import pandas as pd\n",
    "import matplotlib.pyplot as plt\n",
    "import seaborn as sns\n",
    "%matplotlib inline\n",
    "%config InlineBackend.figure_format='retina'"
   ]
  },
  {
   "cell_type": "code",
   "execution_count": null,
   "metadata": {},
   "outputs": [],
   "source": [
    "print(f\"pandas  version = {pd.__version__}\")\n",
    "print(f\"seaborn version = {sns.__version__}\")"
   ]
  },
  {
   "cell_type": "markdown",
   "metadata": {},
   "source": [
    "## read miles per gallon dataset (mpg.csv)"
   ]
  },
  {
   "cell_type": "code",
   "execution_count": null,
   "metadata": {},
   "outputs": [],
   "source": [
    "url='https://github.com/prasertcbs/tutorial/raw/master/mpg.csv'\n",
    "df=pd.read_csv(url)\n",
    "df.head()"
   ]
  },
  {
   "cell_type": "code",
   "execution_count": null,
   "metadata": {},
   "outputs": [],
   "source": [
    "df['gear']=df.trans.str[0].map({'a':'auto', 'm':'manual'}).astype(\"category\")\n",
    "df['drv']=df.drv.map({'f':'front', 'r':'rear', '4':'4-wheel'}).astype('category')\n",
    "df.head()"
   ]
  },
  {
   "cell_type": "code",
   "execution_count": null,
   "metadata": {},
   "outputs": [],
   "source": [
    "sns.barplot(x='year', y='cty', data=df,\n",
    "               ci=None)"
   ]
  },
  {
   "cell_type": "markdown",
   "metadata": {},
   "source": [
    "### add hue"
   ]
  },
  {
   "cell_type": "code",
   "execution_count": null,
   "metadata": {},
   "outputs": [],
   "source": [
    "sns.barplot(x='year', y='cty', data=df,\n",
    "               hue='gear',\n",
    "               ci=None)"
   ]
  },
  {
   "cell_type": "markdown",
   "metadata": {},
   "source": [
    "### use factorplot"
   ]
  },
  {
   "cell_type": "code",
   "execution_count": null,
   "metadata": {},
   "outputs": [],
   "source": [
    "sns.factorplot(x='year', y='cty', data=df,\n",
    "               hue='gear', \n",
    "               kind='bar',\n",
    "               ci=None,\n",
    "               size=4, aspect=1)"
   ]
  },
  {
   "cell_type": "markdown",
   "metadata": {},
   "source": [
    "### add 'drv' as column factor"
   ]
  },
  {
   "cell_type": "code",
   "execution_count": null,
   "metadata": {},
   "outputs": [],
   "source": [
    "sns.factorplot(x='year', y='cty', data=df,\n",
    "               hue='gear', \n",
    "               kind='bar',\n",
    "               ci=None,\n",
    "               col='drv',\n",
    "               size=4, aspect=1)"
   ]
  },
  {
   "cell_type": "code",
   "execution_count": null,
   "metadata": {},
   "outputs": [],
   "source": [
    "df['class'].unique()"
   ]
  },
  {
   "cell_type": "code",
   "execution_count": null,
   "metadata": {},
   "outputs": [],
   "source": [
    "sns.factorplot(x='year', y='cty', data=df,\n",
    "               hue='gear', \n",
    "               kind='bar',\n",
    "               ci=None,\n",
    "               col='drv',\n",
    "               row='class',\n",
    "               size=4, aspect=1)"
   ]
  },
  {
   "cell_type": "code",
   "execution_count": null,
   "metadata": {},
   "outputs": [],
   "source": [
    "df[df['class'].str.match('^(compact|midsize|suv)')].sample(frac=.05)"
   ]
  },
  {
   "cell_type": "markdown",
   "metadata": {},
   "source": [
    "### add 'class' as row factor"
   ]
  },
  {
   "cell_type": "code",
   "execution_count": null,
   "metadata": {},
   "outputs": [],
   "source": [
    "sns.factorplot(x='year', y='cty', data=df[df['class'].str.match('compact|midsize|suv')],\n",
    "               hue='gear', \n",
    "               kind='bar',\n",
    "               ci=None,\n",
    "               row='class',\n",
    "               col='drv',\n",
    "               size=3, aspect=1)"
   ]
  },
  {
   "cell_type": "markdown",
   "metadata": {},
   "source": [
    "### use point chart (kind)"
   ]
  },
  {
   "cell_type": "code",
   "execution_count": null,
   "metadata": {},
   "outputs": [],
   "source": [
    "sns.factorplot(x='year', y='cty', data=df,\n",
    "               hue=\"gear\", \n",
    "               col=\"drv\",\n",
    "               ci=None,\n",
    "               size=4, aspect=1);"
   ]
  },
  {
   "cell_type": "markdown",
   "metadata": {},
   "source": [
    "### col_wrap"
   ]
  },
  {
   "cell_type": "code",
   "execution_count": null,
   "metadata": {},
   "outputs": [],
   "source": [
    "sns.factorplot(x='year', y='cty', data=df,\n",
    "               hue=\"gear\", \n",
    "               col=\"class\",\n",
    "               ci=None,\n",
    "               size=2.5, aspect=1);"
   ]
  },
  {
   "cell_type": "code",
   "execution_count": null,
   "metadata": {},
   "outputs": [],
   "source": [
    "sns.factorplot(x='year', y='cty', data=df,\n",
    "               hue=\"gear\", \n",
    "               col=\"class\",\n",
    "               col_wrap=3,\n",
    "               ci=None,\n",
    "               size=2.5, aspect=1);"
   ]
  },
  {
   "cell_type": "markdown",
   "metadata": {},
   "source": [
    "### kind = 'violin'"
   ]
  },
  {
   "cell_type": "code",
   "execution_count": null,
   "metadata": {},
   "outputs": [],
   "source": [
    "sns.factorplot(x='year', y='cty', data=df,\n",
    "               hue='gear', \n",
    "               kind='violin',\n",
    "               col='class',\n",
    "               col_wrap=4,\n",
    "               ci=None,\n",
    "               size=2.5, aspect=1);"
   ]
  },
  {
   "cell_type": "code",
   "execution_count": null,
   "metadata": {},
   "outputs": [],
   "source": [
    "sns.factorplot(x='year', y='cty', data=df,\n",
    "               hue='gear', \n",
    "               kind='box',\n",
    "               col='class',\n",
    "               col_wrap=4,\n",
    "               ci=None,\n",
    "               size=2.5, aspect=1);"
   ]
  },
  {
   "cell_type": "code",
   "execution_count": null,
   "metadata": {},
   "outputs": [],
   "source": [
    "sns.factorplot(x='year', y='cty', data=df,\n",
    "               hue=\"gear\", \n",
    "               kind=\"bar\",\n",
    "               col=\"class\",\n",
    "               col_wrap=4,\n",
    "               size=2.5, aspect=1);"
   ]
  },
  {
   "cell_type": "markdown",
   "metadata": {},
   "source": [
    "### named palette"
   ]
  },
  {
   "cell_type": "code",
   "execution_count": null,
   "metadata": {},
   "outputs": [],
   "source": [
    "sns.factorplot(x='drv', y='cty', data=df,\n",
    "               hue=\"gear\", \n",
    "               palette='Set2',\n",
    "               col=\"year\",\n",
    "               kind=\"box\",\n",
    "               size=4, aspect=1);"
   ]
  },
  {
   "cell_type": "code",
   "execution_count": null,
   "metadata": {},
   "outputs": [],
   "source": [
    "sns.factorplot(x='gear', y='cty', data=df,\n",
    "               hue=\"drv\", \n",
    "               palette='Set2',\n",
    "               col=\"year\",\n",
    "               kind=\"box\",\n",
    "               size=4, aspect=1);"
   ]
  },
  {
   "cell_type": "markdown",
   "metadata": {},
   "source": [
    "### palette color"
   ]
  },
  {
   "cell_type": "code",
   "execution_count": null,
   "metadata": {},
   "outputs": [],
   "source": [
    "sns.factorplot(x='drv', y='cty', data=df,\n",
    "               hue=\"gear\", \n",
    "               palette=['deepskyblue', 'tomato'],\n",
    "               col=\"year\",\n",
    "               kind=\"box\",\n",
    "               size=4, aspect=1);"
   ]
  },
  {
   "cell_type": "markdown",
   "metadata": {},
   "source": [
    "### palette dict + hex color #rrggbb"
   ]
  },
  {
   "cell_type": "code",
   "execution_count": null,
   "metadata": {},
   "outputs": [],
   "source": [
    "sns.factorplot(x='drv', y='cty', data=df,\n",
    "               hue=\"gear\", \n",
    "               palette={'auto':'deepskyblue', 'manual':'#CC0000'},\n",
    "               col=\"year\",\n",
    "               kind=\"box\",\n",
    "               size=4, aspect=1);"
   ]
  },
  {
   "cell_type": "code",
   "execution_count": null,
   "metadata": {},
   "outputs": [],
   "source": []
  }
 ],
 "metadata": {
  "language_info": {
   "name": "python",
   "pygments_lexer": "ipython3"
  }
 },
 "nbformat": 4,
 "nbformat_minor": 2
}

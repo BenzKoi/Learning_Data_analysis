{
 "cells": [
  {
   "cell_type": "code",
   "execution_count": null,
   "metadata": {},
   "outputs": [],
   "source": [
    "import pandas as pd\n",
    "import matplotlib.pyplot as plt\n",
    "\n",
    "\n",
    "df = pd.DataFrame({\"date\": [\"2018-01-01\", \"2018-01-02\", \"2018-01-03\", \"2018-01-04\"],\n",
    "                   \"column1\": [555,525,532,585], \n",
    "                   \"column2\": [50,48,49,51]})\n",
    "\n",
    "ax = df.plot(x=\"date\", y=\"column1\", legend=False, color='k')\n",
    "ax2 = ax.twinx()\n",
    "df.plot(x=\"date\", y=\"column2\", ax=ax2, legend=False, color=\"r\")\n",
    "ax.figure.legend()\n",
    "plt.show()\n",
    "# plt.show()"
   ]
  },
  {
   "cell_type": "code",
   "execution_count": null,
   "metadata": {},
   "outputs": [],
   "source": [
    "import numpy as np; np.random.seed(42)\n",
    "import seaborn as sns\n",
    "\n",
    "df1 = pd.DataFrame({\"x\": np.sort(np.random.rand(30)),\n",
    "                    \"f\": np.sort(np.random.rayleigh(size=30))})\n",
    "df2 = pd.DataFrame({\"x\": np.sort(np.random.rand(30)),\n",
    "                    \"g\": 500-0.1*np.sort(np.random.rayleigh(20,size=30))**2})\n",
    "\n",
    "fig, ax = plt.subplots()\n",
    "ax2 = ax.twinx()\n",
    "sns.regplot(x=\"x\", y=\"f\", data=df1, order=2, ax=ax)\n",
    "sns.regplot(x=\"x\", y=\"g\", data=df2, order=2, ax=ax2)\n",
    "\n",
    "\n",
    "ax2.legend(handles=[a.lines[0] for a in [ax,ax2]], \n",
    "           labels=[\"f\", \"g\"])\n",
    "plt.show()"
   ]
  },
  {
   "cell_type": "code",
   "execution_count": null,
   "metadata": {},
   "outputs": [],
   "source": [
    "t = np.arange(0.01, 10.0, 0.01)\n",
    "data1 = np.exp(t)\n",
    "data2 = np.sin(2 * np.pi * t)\n",
    "\n",
    "fig, ax1 = plt.subplots()\n",
    "\n",
    "color = 'tab:red'\n",
    "ax1.set_xlabel('time (s)')\n",
    "ax1.set_ylabel('exp', color=color)\n",
    "ax1.plot(t, data1, color=color)\n",
    "ax1.tick_params(axis='y', labelcolor=color)\n",
    "\n",
    "ax2 = ax1.twinx()  # instantiate a second axes that shares the same x-axis\n",
    "\n",
    "color = 'tab:blue'\n",
    "ax2.set_ylabel('sin', color=color)  # we already handled the x-label with ax1\n",
    "ax2.plot(t, data2, color=color)\n",
    "ax2.tick_params(axis='y', labelcolor=color)\n",
    "\n",
    "fig.tight_layout()  # otherwise the right y-label is slightly clipped\n",
    "plt.show()"
   ]
  },
  {
   "cell_type": "code",
   "execution_count": null,
   "metadata": {},
   "outputs": [],
   "source": [
    "from matplotlib import rc\n",
    "rc('mathtext', default='regular')\n",
    "\n",
    "time = np.arange(10)\n",
    "temp = np.random.random(10)*30\n",
    "Swdown = np.random.random(10)*100-10\n",
    "Rn = np.random.random(10)*100-10\n",
    "\n",
    "fig = plt.figure()\n",
    "ax = fig.add_subplot(111)\n",
    "\n",
    "lns1 = ax.plot(time, Swdown, '-', label = 'Swdown')\n",
    "lns2 = ax.plot(time, Rn, '-', label = 'Rn')\n",
    "ax2 = ax.twinx()\n",
    "lns3 = ax2.plot(time, temp, '-r', label = 'temp')\n",
    "\n",
    "# added these three lines\n",
    "lns = lns1+lns2+lns3\n",
    "labs = [l.get_label() for l in lns]\n",
    "ax.legend(lns, labs, loc=0)\n",
    "\n",
    "ax.grid()\n",
    "ax.set_xlabel(\"Time (h)\")\n",
    "ax.set_ylabel(r\"Radiation ($MJ\\,m^{-2}\\,d^{-1}$)\")\n",
    "ax2.set_ylabel(r\"Temperature ($^\\circ$C)\")\n",
    "ax2.set_ylim(0, 35)\n",
    "ax.set_ylim(-20,100)\n",
    "plt.show()"
   ]
  },
  {
   "cell_type": "code",
   "execution_count": null,
   "metadata": {},
   "outputs": [],
   "source": []
  }
 ],
 "metadata": {
  "language_info": {
   "name": "python",
   "pygments_lexer": "ipython3"
  }
 },
 "nbformat": 4,
 "nbformat_minor": 2
}

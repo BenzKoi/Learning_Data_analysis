{
 "cells": [
  {
   "cell_type": "markdown",
   "metadata": {},
   "source": [
    "# Impute/Replace missing values"
   ]
  },
  {
   "cell_type": "code",
   "execution_count": null,
   "metadata": {},
   "outputs": [],
   "source": [
    "import pandas as pd\n",
    "import numpy as np"
   ]
  },
  {
   "cell_type": "code",
   "execution_count": null,
   "metadata": {},
   "outputs": [],
   "source": [
    "print(f'pandas version: {pd.__version__}')\n",
    "print(f'numpy  version: {np.__version__}')"
   ]
  },
  {
   "cell_type": "code",
   "execution_count": null,
   "metadata": {},
   "outputs": [],
   "source": [
    "df=pd.read_csv('https://github.com/prasertcbs/tutorial/raw/master/msleep.csv')\n",
    "df=df.sample(20, random_state=123)\n",
    "df"
   ]
  },
  {
   "cell_type": "code",
   "execution_count": null,
   "metadata": {},
   "outputs": [],
   "source": [
    "df.info()"
   ]
  },
  {
   "cell_type": "markdown",
   "metadata": {},
   "source": [
    "### check NA in 'vore' column"
   ]
  },
  {
   "cell_type": "code",
   "execution_count": null,
   "metadata": {},
   "outputs": [],
   "source": [
    "df[df.vore.isna()]"
   ]
  },
  {
   "cell_type": "markdown",
   "metadata": {},
   "source": [
    "## scikit-learn: SimpleImputer"
   ]
  },
  {
   "cell_type": "code",
   "execution_count": null,
   "metadata": {},
   "outputs": [],
   "source": [
    "import sklearn\n",
    "from sklearn.impute import SimpleImputer"
   ]
  },
  {
   "cell_type": "code",
   "execution_count": null,
   "metadata": {},
   "outputs": [],
   "source": [
    "print(f'sklearn version: {sklearn.__version__}')"
   ]
  },
  {
   "cell_type": "code",
   "execution_count": null,
   "metadata": {},
   "outputs": [],
   "source": [
    "imp = SimpleImputer(strategy=\"most_frequent\")\n",
    "imp.fit_transform(df[['vore']])"
   ]
  },
  {
   "cell_type": "code",
   "execution_count": null,
   "metadata": {},
   "outputs": [],
   "source": [
    "df['vore2']=imp.fit_transform(df[['vore']])\n",
    "df[df.vore.isna()][['name', 'vore', 'vore2']]"
   ]
  },
  {
   "cell_type": "code",
   "execution_count": null,
   "metadata": {},
   "outputs": [],
   "source": [
    "imp2 = SimpleImputer(strategy=\"constant\", fill_value='omni')\n",
    "df['vore3']=imp2.fit_transform(df[['vore']])\n",
    "df[df.vore.isna()][['name', 'vore', 'vore2', 'vore3']]"
   ]
  },
  {
   "cell_type": "code",
   "execution_count": null,
   "metadata": {},
   "outputs": [],
   "source": [
    "df"
   ]
  },
  {
   "cell_type": "code",
   "execution_count": null,
   "metadata": {},
   "outputs": [],
   "source": [
    "# imp3=SimpleImputer(strategy='mean')\n",
    "# imp3=SimpleImputer(strategy='median')\n",
    "imp3=SimpleImputer(strategy='constant', fill_value=-99)\n",
    "df['sleep_rem4']=imp3.fit_transform(df[['sleep_rem']])\n",
    "df[df.sleep_rem.isna()][['name', 'sleep_rem', 'sleep_rem4']]\n",
    "# df[df.sleep_rem.isna()][['name', 'sleep_rem', 'sleep_rem2', 'sleep_rem3', 'sleep_rem4']]"
   ]
  },
  {
   "cell_type": "code",
   "execution_count": null,
   "metadata": {},
   "outputs": [],
   "source": [
    "# imp_x=SimpleImputer(strategy='mean')\n",
    "# imp_x=SimpleImputer(strategy='median')\n",
    "# imp_x=SimpleImputer(strategy='most_frequent')\n",
    "imp_x=SimpleImputer(missing_values=-99, strategy='constant', fill_value=np.nan)\n",
    "\n",
    "df['sleep_rem5']=imp_x.fit_transform(df[['sleep_rem4']])\n",
    "df[df.sleep_rem4==-99.0][['name', 'sleep_rem4', 'sleep_rem5']]"
   ]
  },
  {
   "cell_type": "code",
   "execution_count": null,
   "metadata": {},
   "outputs": [],
   "source": [
    "imp_x=SimpleImputer(strategy='mean')\n",
    "# imp_x=SimpleImputer(strategy='median')\n",
    "# imp_x=SimpleImputer(strategy='most_frequent')\n",
    "# imp_x=SimpleImputer(missing_values=-99, strategy='constant', fill_value=np.nan)\n",
    "\n",
    "df['sleep_rem6']=imp_x.fit_transform(df[['sleep_rem5']])\n",
    "df[df.sleep_rem5.isna()][['name', 'sleep_rem4', 'sleep_rem5', 'sleep_rem6']]"
   ]
  }
 ],
 "metadata": {
  "language_info": {
   "name": "python",
   "pygments_lexer": "ipython3"
  }
 },
 "nbformat": 4,
 "nbformat_minor": 2
}

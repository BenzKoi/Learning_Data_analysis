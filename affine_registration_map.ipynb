{
 "cells": [
  {
   "cell_type": "code",
   "execution_count": null,
   "metadata": {},
   "outputs": [],
   "source": [
    "import numpy as np"
   ]
  },
  {
   "cell_type": "code",
   "execution_count": null,
   "metadata": {},
   "outputs": [],
   "source": [
    "b = np.array([[1, 2, 0],[1, 3, 1], [1, 5, 2]])\n",
    "inv_b = np.linalg.inv(b)"
   ]
  },
  {
   "cell_type": "code",
   "execution_count": null,
   "metadata": {},
   "outputs": [],
   "source": [
    "v = np.array([[1, 0, 1],[0, 2, 0], [1, -1, 0]])\n",
    "np.matmul(v,inv_b)"
   ]
  },
  {
   "cell_type": "code",
   "execution_count": null,
   "metadata": {},
   "outputs": [],
   "source": [
    "import cv2\n",
    "import os.path"
   ]
  },
  {
   "cell_type": "code",
   "execution_count": null,
   "metadata": {},
   "outputs": [],
   "source": [
    "# while not os.path.isfile(\"C:/Users/benz/phdProject/dataPreparing/data/data.png\"):\n",
    "#     #ignore if no such file is present.\n",
    "#     pass\n",
    "\n",
    "img = cv2.imread(\"C:/Users/benz/phdProject/dataPreparing/data/grid.jpg\")\n",
    "rows, cols, ch = img.shape\n",
    " \n",
    "cv2.circle(img, (83, 90), 5, (0, 0, 255), -1)\n",
    "cv2.circle(img, (447, 90), 5, (0, 0, 255), -1)\n",
    "# cv2.circle(img, (83, 472), 5, (0, 0, 255), -1)\n",
    " \n",
    "# pts1 = np.float32([[83, 90], [447, 90], [83, 472]])\n",
    "# pts2 = np.float32([[0, 0], [447, 90], [150, 472]])\n",
    " \n",
    "# matrix = cv2.getAffineTransform(pts1, pts2)\n",
    "# result = cv2.warpAffine(img, matrix, (cols, rows))\n",
    " \n",
    "cv2.imshow(\"Image\", img)\n",
    "# cv2.imshow(\"Affine transformation\", result)\n",
    "cv2.waitKey(0)\n",
    "cv2.destroyAllWindows()\n",
    "\n"
   ]
  },
  {
   "cell_type": "code",
   "execution_count": null,
   "metadata": {},
   "outputs": [],
   "source": [
    "cv2.circle(img, (83, 90), 5, (0, 0, 255), -1)\n",
    "# cv2.circle(img, (447, 90), 5, (0, 0, 255), -1)\n",
    "# cv2.circle(img, (83, 472), 5, (0, 0, 255), -1)\n",
    " \n",
    "# pts1 = np.float32([[83, 90], [447, 90], [83, 472]])\n",
    "# pts2 = np.float32([[0, 0], [447, 90], [150, 472]])\n",
    " \n",
    "# matrix = cv2.getAffineTransform(pts1, pts2)\n",
    "# result = cv2.warpAffine(img, matrix, (cols, rows))\n",
    " \n",
    "# cv2.imshow(\"Image\", img)\n",
    "# cv2.imshow(\"Affine transformation\", result)\n",
    "# cv2.waitKey(0)\n",
    "# cv2.destroyAllWindows()"
   ]
  },
  {
   "cell_type": "code",
   "execution_count": null,
   "metadata": {},
   "outputs": [],
   "source": [
    "import tensorflow as tf"
   ]
  },
  {
   "cell_type": "code",
   "execution_count": null,
   "metadata": {},
   "outputs": [],
   "source": [
    "# ประกาศ parameter ที่ต้องการทราบก่อน\n",
    "W = tf.Variable([.3], tf.float32)\n",
    "b = tf.Variable([-.3], tf.float32)"
   ]
  },
  {
   "cell_type": "code",
   "execution_count": null,
   "metadata": {},
   "outputs": [],
   "source": [
    "# ตรงนี้เป็น model input output\n",
    "x = tf.placeholder(tf.float32)\n",
    "linear_model = W * x + b\n",
    "y = tf.placeholder(tf.float32)"
   ]
  },
  {
   "cell_type": "code",
   "execution_count": null,
   "metadata": {},
   "outputs": [],
   "source": [
    "# loss เป็นตัวบอกว่า model ที่ได้ใน input เดียวกัน output มันคลาดเคลื่อนไปจาก datasets เท่าไร\n",
    "loss = tf.reduce_sum(tf.square(linear_model - y))\n",
    "# optimizer นี่ตามชื่อเลยครับ\n",
    "optimizer = tf.train.GradientDescentOptimizer(0.01)\n",
    "train = optimizer.minimize(loss) #ตรงนี้จะพยายามลด Loss ให้น้อยที่สุด"
   ]
  },
  {
   "cell_type": "code",
   "execution_count": null,
   "metadata": {},
   "outputs": [],
   "source": [
    "# datasets ของเรา\n",
    "x_train = [1,2,3,4]\n",
    "y_train = [0,-1,-2,-3]"
   ]
  },
  {
   "cell_type": "code",
   "execution_count": null,
   "metadata": {},
   "outputs": [],
   "source": [
    "# อันนี้เป็นขั้นตอน training\n",
    "init = tf.global_variables_initializer()\n",
    "sess = tf.Session()\n",
    "sess.run(init)\n",
    "for i in range(1000):\n",
    "  sess.run(train, {x:x_train, y:y_train})"
   ]
  },
  {
   "cell_type": "code",
   "execution_count": null,
   "metadata": {},
   "outputs": [],
   "source": [
    "# พอ train เสร็จเราก็จะมาดูผลที่ได้\n",
    "curr_W, curr_b, curr_loss  = sess.run([W, b, loss], {x:x_train, y:y_train})\n",
    "print(\"W: %s b: %s loss: %s\"%(curr_W, curr_b, curr_loss))"
   ]
  },
  {
   "cell_type": "code",
   "execution_count": null,
   "metadata": {},
   "outputs": [],
   "source": []
  }
 ],
 "metadata": {
  "language_info": {
   "name": "python",
   "pygments_lexer": "ipython3"
  }
 },
 "nbformat": 4,
 "nbformat_minor": 2
}

{
 "nbformat": 4,
 "nbformat_minor": 0,
 "metadata": {
  "language_info": {
   "name": "python",
   "pygments_lexer": "ipython3"
  }
 },
 "cells": [
  {
   "metadata": {},
   "cell_type": "markdown",
   "source": [
    "# Multilevel Column Names"
   ]
  },
  {
   "metadata": {},
   "cell_type": "code",
   "source": [
    "import pandas as pd\n",
    "from pandas_datareader import data\n",
    "import seaborn as sns\n",
    "%matplotlib inline\n",
    "%config InlineBackend.figure_format='retina'"
   ],
   "execution_count": null,
   "outputs": []
  },
  {
   "metadata": {},
   "cell_type": "code",
   "source": [
    "print(f\"pandas  version = {pd.__version__}\")\n",
    "print(f\"seaborn version = {sns.__version__}\")"
   ],
   "execution_count": null,
   "outputs": []
  },
  {
   "metadata": {},
   "cell_type": "code",
   "source": [
    "pd.Timestamp.today()"
   ],
   "execution_count": null,
   "outputs": []
  },
  {
   "metadata": {},
   "cell_type": "markdown",
   "source": [
    "## single-level column name"
   ]
  },
  {
   "metadata": {},
   "cell_type": "code",
   "source": [
    "url='https://github.com/prasertcbs/tutorial/raw/master/mpg.csv'\n",
    "dat=pd.read_csv(url)\n",
    "dat.head()"
   ],
   "execution_count": null,
   "outputs": []
  },
  {
   "metadata": {},
   "cell_type": "code",
   "source": [
    "dat.info()"
   ],
   "execution_count": null,
   "outputs": []
  },
  {
   "metadata": {},
   "cell_type": "code",
   "source": [
    "dat.columns"
   ],
   "execution_count": null,
   "outputs": []
  },
  {
   "metadata": {},
   "cell_type": "markdown",
   "source": [
    "## get stocks (multilevel column names)"
   ]
  },
  {
   "metadata": {},
   "cell_type": "code",
   "source": [
    "stocks=['fb', 'aapl', 'msft']\n",
    "df = data.DataReader(stocks, data_source=\"yahoo\",\n",
    "                     start=\"2019-01-02\")\n",
    "df.head()"
   ],
   "execution_count": null,
   "outputs": []
  },
  {
   "metadata": {},
   "cell_type": "code",
   "source": [
    "# stocks=['scc.bk', 'bh.bk']\n",
    "# df = data.DataReader(stocks, data_source=\"yahoo\",\n",
    "#                      start=\"2019-01-02\")\n",
    "# df.head()"
   ],
   "execution_count": null,
   "outputs": []
  },
  {
   "metadata": {},
   "cell_type": "code",
   "source": [
    "df.info()"
   ],
   "execution_count": null,
   "outputs": []
  },
  {
   "metadata": {},
   "cell_type": "code",
   "source": [
    "df.head()"
   ],
   "execution_count": null,
   "outputs": []
  },
  {
   "metadata": {},
   "cell_type": "code",
   "source": [
    "df.columns"
   ],
   "execution_count": null,
   "outputs": []
  },
  {
   "metadata": {},
   "cell_type": "code",
   "source": [
    "df['High']"
   ],
   "execution_count": null,
   "outputs": []
  },
  {
   "metadata": {},
   "cell_type": "code",
   "source": [
    "df['High']['fb']"
   ],
   "execution_count": null,
   "outputs": []
  },
  {
   "metadata": {},
   "cell_type": "code",
   "source": [
    "df.loc['2019-01-08':]"
   ],
   "execution_count": null,
   "outputs": []
  },
  {
   "metadata": {},
   "cell_type": "code",
   "source": [
    "df.loc['2019-01-08':, 'Open']"
   ],
   "execution_count": null,
   "outputs": []
  },
  {
   "metadata": {},
   "cell_type": "code",
   "source": [
    "df.info()"
   ],
   "execution_count": null,
   "outputs": []
  },
  {
   "metadata": {},
   "cell_type": "code",
   "source": [
    "df.loc['2019-01-08':, ('Open', 'aapl')]"
   ],
   "execution_count": null,
   "outputs": []
  },
  {
   "metadata": {},
   "cell_type": "code",
   "source": [
    "df.loc['2019-01-08':'2019-01-10', ('Open', 'aapl')]"
   ],
   "execution_count": null,
   "outputs": []
  },
  {
   "metadata": {},
   "cell_type": "code",
   "source": [
    "df.loc['2019-01-08':'2019-01-10', ('Open', ['aapl', 'fb'])]"
   ],
   "execution_count": null,
   "outputs": []
  },
  {
   "metadata": {},
   "cell_type": "code",
   "source": [
    "df.loc['2019-01-08':'2019-01-10', (['Open', 'Close'], ['aapl', 'fb'])]"
   ],
   "execution_count": null,
   "outputs": []
  },
  {
   "metadata": {},
   "cell_type": "code",
   "source": [
    "df.to_csv('mlevel_col_names.csv')\n",
    "df.to_excel('mlevel_col_names.xlsx')"
   ],
   "execution_count": null,
   "outputs": []
  },
  {
   "metadata": {},
   "cell_type": "markdown",
   "source": [
    "## stack data frame"
   ]
  },
  {
   "metadata": {},
   "cell_type": "code",
   "source": [
    "df.stack()"
   ],
   "execution_count": null,
   "outputs": []
  },
  {
   "metadata": {},
   "cell_type": "code",
   "source": [
    "ds=df.stack().reset_index()\n",
    "ds"
   ],
   "execution_count": null,
   "outputs": []
  },
  {
   "metadata": {},
   "cell_type": "code",
   "source": [
    "ds.sort_values(['Symbols', 'Date'])"
   ],
   "execution_count": null,
   "outputs": []
  },
  {
   "metadata": {},
   "cell_type": "code",
   "source": [
    "ds[ds.Symbols=='fb']"
   ],
   "execution_count": null,
   "outputs": []
  },
  {
   "metadata": {},
   "cell_type": "code",
   "source": [
    "sns.lineplot(x='Date', y='Adj Close', hue='Symbols',\n",
    "             style='Symbols',\n",
    "             data=ds);"
   ],
   "execution_count": null,
   "outputs": []
  },
  {
   "metadata": {},
   "cell_type": "code",
   "source": [
    "sns.relplot(x='Date', y='Adj Close', col='Symbols',\n",
    "            hue='Symbols',\n",
    "            kind='line',\n",
    "            height=5,\n",
    "            facet_kws={'sharey': False},\n",
    "            data=ds)"
   ],
   "execution_count": null,
   "outputs": []
  },
  {
   "metadata": {},
   "cell_type": "code",
   "source": [
    "sns.lineplot(x='Date', y='Adj Close', hue='Symbols',\n",
    "             data=ds[ds.Symbols.str.match('aapl|msft')]);"
   ],
   "execution_count": null,
   "outputs": []
  },
  {
   "metadata": {},
   "cell_type": "code",
   "source": [
    "ds.to_csv('port1.csv', index=False)\n",
    "ds.to_excel('port1.xlsx', index=False)"
   ],
   "execution_count": null,
   "outputs": []
  },
  {
   "metadata": {},
   "cell_type": "code",
   "source": [
    ""
   ],
   "execution_count": null,
   "outputs": []
  }
 ]
}

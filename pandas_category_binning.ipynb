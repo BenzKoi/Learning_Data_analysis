{
 "cells": [
  {
   "cell_type": "markdown",
   "metadata": {},
   "source": [
    "# cut (binning) and category"
   ]
  },
  {
   "cell_type": "code",
   "execution_count": null,
   "metadata": {},
   "outputs": [],
   "source": [
    "import pandas as pd\n",
    "import numpy as np\n",
    "%matplotlib inline"
   ]
  },
  {
   "cell_type": "code",
   "execution_count": null,
   "metadata": {},
   "outputs": [],
   "source": [
    "pd.__version__"
   ]
  },
  {
   "cell_type": "code",
   "execution_count": null,
   "metadata": {},
   "outputs": [],
   "source": [
    "df=pd.read_csv('https://github.com/prasertcbs/tutorial/raw/master/staff.csv', \n",
    "               index_col='empID', \n",
    "               thousands=',', parse_dates=['dob', 'join_date'])\n",
    "df"
   ]
  },
  {
   "cell_type": "code",
   "execution_count": null,
   "metadata": {},
   "outputs": [],
   "source": [
    "df.info()"
   ]
  },
  {
   "cell_type": "code",
   "execution_count": null,
   "metadata": {},
   "outputs": [],
   "source": [
    "# old way (before 0.21.0)\n",
    "salary_bucket=['0-15,000', '15,001-30,000', '30,001-50,000', '50,001-80,000', '80,001+']\n",
    "df['salary_group'] = pd.cut(df.salary,\n",
    "                           bins=[0, 15000, 30000, 50000, 80000, np.inf],\n",
    "                           labels=salary_bucket,\n",
    "                           right=True).astype(str).astype(\"category\", categories=salary_bucket, ordered=True)\n",
    "df.sort_values(by='salary_group')"
   ]
  },
  {
   "cell_type": "code",
   "execution_count": null,
   "metadata": {},
   "outputs": [],
   "source": [
    "# new way in pandas 0.21.0\n",
    "from pandas.api.types import CategoricalDtype\n",
    "salary_bucket=['0-15,000', '15,001-30,000', '30,001-50,000', '50,001-80,000', '80,001+']\n",
    "df['salary_group'] = pd.cut(df.salary,\n",
    "                           bins=[0, 15000, 30000, 50000, 80000, np.inf],\n",
    "                           labels=salary_bucket,\n",
    "                           right=True).astype(CategoricalDtype(salary_bucket, ordered=True)) #.astype(\"category\", categories=salary_cat, ordered=True)\n",
    "df.sort_values(by='salary_group')"
   ]
  },
  {
   "cell_type": "code",
   "execution_count": null,
   "metadata": {},
   "outputs": [],
   "source": [
    "df.salary_group"
   ]
  },
  {
   "cell_type": "code",
   "execution_count": null,
   "metadata": {},
   "outputs": [],
   "source": [
    "df.salary_group.hist(grid=False)"
   ]
  },
  {
   "cell_type": "code",
   "execution_count": null,
   "metadata": {},
   "outputs": [],
   "source": [
    "pd.to_datetime('today').year"
   ]
  },
  {
   "cell_type": "code",
   "execution_count": null,
   "metadata": {},
   "outputs": [],
   "source": [
    "df['age']=pd.to_datetime('today').year - df.dob.dt.year\n",
    "df"
   ]
  },
  {
   "cell_type": "code",
   "execution_count": null,
   "metadata": {},
   "outputs": [],
   "source": [
    "age_cat = [\"18-25\", \"26-30\", \"31-40\", \"41-50\", \"50+\"]\n",
    "df['age_group'] = pd.cut(df.age, \n",
    "         bins=[18, 25, 30, 40, 50, np.Inf], \n",
    "         labels= age_cat,\n",
    "         right=True, \n",
    "         include_lowest=True).astype(str).astype(\"category\", categories=age_cat, ordered=True)\n",
    "df"
   ]
  },
  {
   "cell_type": "code",
   "execution_count": null,
   "metadata": {},
   "outputs": [],
   "source": [
    "# recommended way\n",
    "age_cat = [\"18-25\", \"26-30\", \"31-40\", \"41-50\", \"50+\"]\n",
    "df['age_group'] = pd.cut(df.age, \n",
    "         bins=[18, 25, 30, 40, 50, np.Inf], \n",
    "         labels= age_cat,\n",
    "         right=True, \n",
    "         include_lowest=True).astype(CategoricalDtype(age_cat, ordered=True))\n",
    "df"
   ]
  },
  {
   "cell_type": "code",
   "execution_count": null,
   "metadata": {},
   "outputs": [],
   "source": [
    "df.age_group"
   ]
  },
  {
   "cell_type": "code",
   "execution_count": null,
   "metadata": {},
   "outputs": [],
   "source": [
    "df.age_group.hist(grid=False);"
   ]
  },
  {
   "cell_type": "code",
   "execution_count": null,
   "metadata": {},
   "outputs": [],
   "source": [
    "from IPython.display import IFrame\n",
    "IFrame(\"https://matplotlib.org/examples/color/named_colors.html\", width=800, height=800)"
   ]
  },
  {
   "cell_type": "code",
   "execution_count": null,
   "metadata": {},
   "outputs": [],
   "source": [
    "# https://matplotlib.org/examples/color/named_colors.html\n",
    "\n",
    "pd.crosstab(df.age_group, df.sex).plot(kind='barh', color=['pink', 'deepskyblue'])"
   ]
  },
  {
   "cell_type": "code",
   "execution_count": null,
   "metadata": {},
   "outputs": [],
   "source": [
    "from IPython.display import IFrame\n",
    "IFrame(\"https://www.careerplanner.com/Career-Articles/Generations.cfm\", width=800, height=800)"
   ]
  },
  {
   "cell_type": "code",
   "execution_count": null,
   "metadata": {},
   "outputs": [],
   "source": [
    "df.dob.dt.year"
   ]
  },
  {
   "cell_type": "code",
   "execution_count": null,
   "metadata": {},
   "outputs": [],
   "source": [
    "def gen(birthdate):\n",
    "    '''born in generation'''\n",
    "    y = birthdate.year\n",
    "    if 1946 <= y <= 1964:\n",
    "        return 'Baby Boomer'\n",
    "    elif 1965 <= y <= 1979:\n",
    "        return 'Gen X'\n",
    "    elif 1980 <= y <= 1994:\n",
    "        return 'Gen Y'\n",
    "    elif 1995 <= y <= 2012:\n",
    "        return 'Gen Z'\n",
    "    else:\n",
    "        return 'Gen Alpha'"
   ]
  },
  {
   "cell_type": "code",
   "execution_count": null,
   "metadata": {},
   "outputs": [],
   "source": [
    "df['gen']=df.dob.map(lambda d: gen(d)).astype('category', \n",
    "                                              categories=['Baby Boomer', 'Gen X', 'Gen Y', 'Gen Z', 'Gen Alpha'], \n",
    "                                              ordered=True)\n",
    "df"
   ]
  },
  {
   "cell_type": "code",
   "execution_count": null,
   "metadata": {},
   "outputs": [],
   "source": [
    "df['gen']=df.dob.map(lambda d: gen(d)).astype(CategoricalDtype( \n",
    "                                              categories=['Baby Boomer', 'Gen X', 'Gen Y', 'Gen Z', 'Gen Alpha'], \n",
    "                                              ordered=True))\n",
    "df"
   ]
  },
  {
   "cell_type": "code",
   "execution_count": null,
   "metadata": {},
   "outputs": [],
   "source": [
    "df['gen']=df.dob.map(lambda d: gen(d)).astype(CategoricalDtype( \n",
    "                                              categories=['Baby Boomer', 'Gen X', 'Gen Y', 'Gen Z', 'Gen Alpha'], \n",
    "                                              ordered=True))\n",
    "df"
   ]
  },
  {
   "cell_type": "code",
   "execution_count": null,
   "metadata": {},
   "outputs": [],
   "source": [
    "df[['age', 'age_group', 'gen']].sort_values(by='gen')"
   ]
  },
  {
   "cell_type": "code",
   "execution_count": null,
   "metadata": {},
   "outputs": [],
   "source": [
    "df.gen.hist(grid=False);"
   ]
  },
  {
   "cell_type": "code",
   "execution_count": null,
   "metadata": {},
   "outputs": [],
   "source": []
  }
 ],
 "metadata": {
  "language_info": {
   "name": "python",
   "pygments_lexer": "ipython3"
  }
 },
 "nbformat": 4,
 "nbformat_minor": 2
}

{
 "cells": [
  {
   "cell_type": "markdown",
   "metadata": {},
   "source": [
    "# seaborn (violinplot)"
   ]
  },
  {
   "cell_type": "code",
   "execution_count": null,
   "metadata": {},
   "outputs": [],
   "source": [
    "import pandas as pd\n",
    "import matplotlib.pyplot as plt\n",
    "import seaborn as sns\n",
    "%matplotlib inline\n",
    "%config InlineBackend.figure_format = 'retina'"
   ]
  },
  {
   "cell_type": "code",
   "execution_count": null,
   "metadata": {},
   "outputs": [],
   "source": [
    "print(f\"pandas  version = {pd.__version__}\")\n",
    "print(f\"seaborn version = {sns.__version__}\")"
   ]
  },
  {
   "cell_type": "markdown",
   "metadata": {},
   "source": [
    "## read miles per gallon dataset (mpg.csv)"
   ]
  },
  {
   "cell_type": "code",
   "execution_count": null,
   "metadata": {},
   "outputs": [],
   "source": [
    "url='https://github.com/prasertcbs/tutorial/raw/master/mpg.csv'\n",
    "df=pd.read_csv(url)\n",
    "df.sample(5)"
   ]
  },
  {
   "cell_type": "code",
   "execution_count": null,
   "metadata": {},
   "outputs": [],
   "source": [
    "df['gear']=df.trans.str[0].map({'a':'auto', 'm':'manual'}).astype(\"category\")\n",
    "df['drv']=df.drv.map({'f':'front', 'r':'rear', '4':'4-wheel'}).astype('category')\n",
    "df.sample(5)"
   ]
  },
  {
   "cell_type": "markdown",
   "metadata": {},
   "source": [
    "## wide format data"
   ]
  },
  {
   "cell_type": "code",
   "execution_count": null,
   "metadata": {},
   "outputs": [],
   "source": [
    "sns.violinplot(data=df['hwy'])"
   ]
  },
  {
   "cell_type": "code",
   "execution_count": null,
   "metadata": {},
   "outputs": [],
   "source": [
    "sns.violinplot(data=df[['hwy']])"
   ]
  },
  {
   "cell_type": "code",
   "execution_count": null,
   "metadata": {},
   "outputs": [],
   "source": [
    "fig, ax = plt.subplots(2, 2, figsize=(8,6))\n",
    "print(ax.shape)\n",
    "sns.boxplot(data=df[['hwy']], orient='v', color='yellowgreen', ax=ax[0, 0])\n",
    "sns.violinplot(data=df[['hwy']], orient='v', color='yellowgreen', ax=ax[0, 1])\n",
    "sns.boxplot(data=df[['hwy']], orient='h', color='crimson', ax=ax[1, 0])\n",
    "sns.violinplot(data=df[['hwy']], orient='h', color='crimson', ax=ax[1, 1])"
   ]
  },
  {
   "cell_type": "code",
   "execution_count": null,
   "metadata": {},
   "outputs": [],
   "source": [
    "fig, ax = plt.subplots(1, 4, figsize=(13,3))\n",
    "print(ax.shape)\n",
    "sns.boxplot(data=df[['hwy']], orient='h', ax=ax[0])\n",
    "sns.violinplot(data=df[['hwy']], orient='h', ax=ax[1])\n",
    "sns.distplot(df['hwy'], kde=False, ax=ax[2])\n",
    "sns.kdeplot(df['hwy'], shade=True, ax=ax[3])"
   ]
  },
  {
   "cell_type": "code",
   "execution_count": null,
   "metadata": {},
   "outputs": [],
   "source": [
    "fig, ax = plt.subplots(2, 2, figsize=(10,5), sharex=True)\n",
    "print(ax.shape)\n",
    "sns.boxplot(data=df[['hwy']], orient='h', ax=ax[0, 0])\n",
    "sns.violinplot(data=df[['hwy']], orient='h', ax=ax[0, 1])\n",
    "sns.swarmplot(data=df[['hwy']], orient='h', ax=ax[1, 0])\n",
    "sns.lvplot(data=df[['hwy']], orient='h', ax=ax[1, 1])"
   ]
  },
  {
   "cell_type": "code",
   "execution_count": null,
   "metadata": {},
   "outputs": [],
   "source": [
    "# plt.figure(figsize=(8,5))\n",
    "sns.violinplot(data=df[['cty', 'hwy']])"
   ]
  },
  {
   "cell_type": "code",
   "execution_count": null,
   "metadata": {},
   "outputs": [],
   "source": [
    "fig, ax = plt.subplots(1, 2, figsize=(10,4), sharey=True, sharex=True)\n",
    "print(ax.shape)\n",
    "sns.boxplot(data=df[['cty', 'hwy']], ax=ax[0])\n",
    "sns.violinplot(data=df[['cty', 'hwy']], ax=ax[1])"
   ]
  },
  {
   "cell_type": "code",
   "execution_count": null,
   "metadata": {},
   "outputs": [],
   "source": [
    "fig, ax = plt.subplots(1, 2, figsize=(10,4), sharey=True, sharex=True)\n",
    "print(ax.shape)\n",
    "sns.boxplot(data=df[['cty', 'hwy']], orient='h', ax=ax[0])\n",
    "sns.violinplot(data=df[['cty', 'hwy']], orient='h', ax=ax[1])"
   ]
  },
  {
   "cell_type": "markdown",
   "metadata": {},
   "source": [
    "## long format data (pass x and y)"
   ]
  },
  {
   "cell_type": "code",
   "execution_count": null,
   "metadata": {},
   "outputs": [],
   "source": [
    "df.head()"
   ]
  },
  {
   "cell_type": "code",
   "execution_count": null,
   "metadata": {},
   "outputs": [],
   "source": [
    "plt.figure(figsize=(7,5))\n",
    "sns.violinplot(x='drv', y='cty', data=df)"
   ]
  },
  {
   "cell_type": "markdown",
   "metadata": {},
   "source": [
    "## compare to boxplot and violin"
   ]
  },
  {
   "cell_type": "code",
   "execution_count": null,
   "metadata": {},
   "outputs": [],
   "source": [
    "fig, ax = plt.subplots(1, 3, figsize=(12,4), sharey=True, sharex=True)\n",
    "print(ax.shape)\n",
    "x_col='drv'\n",
    "y_col='cty'\n",
    "sns.boxplot(x=x_col, y=y_col, data=df, ax=ax[0])\n",
    "sns.violinplot(x=x_col, y=y_col, data=df, ax=ax[1])\n",
    "sns.lvplot(x=x_col, y=y_col, data=df, ax=ax[2])"
   ]
  },
  {
   "cell_type": "code",
   "execution_count": null,
   "metadata": {},
   "outputs": [],
   "source": [
    "fig, ax = plt.subplots(1, 3, figsize=(12, 4), sharey=True, sharex=True)\n",
    "print(ax.shape)\n",
    "x_col='cty'\n",
    "y_col='drv'\n",
    "sns.boxplot(x=x_col, y=y_col, data=df, ax=ax[0])\n",
    "sns.violinplot(x=x_col, y=y_col, data=df, ax=ax[1])\n",
    "sns.lvplot(x=x_col, y=y_col, data=df, ax=ax[2])"
   ]
  },
  {
   "cell_type": "markdown",
   "metadata": {},
   "source": [
    "### add hue, custom order and label, title"
   ]
  },
  {
   "cell_type": "code",
   "execution_count": null,
   "metadata": {},
   "outputs": [],
   "source": [
    "plt.figure(figsize=(7, 5))\n",
    "sns.violinplot(y='drv', x='cty', data=df,\n",
    "            hue='year',\n",
    "            order=['front', '4-wheel', 'rear'])\n",
    "plt.ylabel('')\n",
    "plt.xlabel('city miles per gallon')\n",
    "plt.title('miles per gallon by driving system')"
   ]
  },
  {
   "cell_type": "markdown",
   "metadata": {},
   "source": [
    "### palette"
   ]
  },
  {
   "cell_type": "code",
   "execution_count": null,
   "metadata": {},
   "outputs": [],
   "source": [
    "plt.figure(figsize=(7, 5))\n",
    "sns.violinplot(y='drv', x='cty', data=df,\n",
    "            hue='year',\n",
    "#             palette='Set2',\n",
    "#             palette='muted',\n",
    "#             palette=['tan', '#aa00aa'],\n",
    "            palette={1999:'tan', 2008:'yellowgreen'},\n",
    "            order=['front', '4-wheel', 'rear'])\n",
    "plt.ylabel('')\n",
    "plt.xlabel('city miles per gallon')\n",
    "plt.title('miles per gallon by driving system')"
   ]
  },
  {
   "cell_type": "markdown",
   "metadata": {},
   "source": [
    "## factorplot"
   ]
  },
  {
   "cell_type": "code",
   "execution_count": null,
   "metadata": {},
   "outputs": [],
   "source": [
    "sns.factorplot(y='gear', x='cty', data=df,\n",
    "               hue='drv',\n",
    "               kind='violin',\n",
    "               col='class',\n",
    "               palette='Set3',\n",
    "               size=5, aspect=.7)"
   ]
  },
  {
   "cell_type": "code",
   "execution_count": null,
   "metadata": {},
   "outputs": [],
   "source": [
    "df['class'].unique()"
   ]
  },
  {
   "cell_type": "code",
   "execution_count": null,
   "metadata": {},
   "outputs": [],
   "source": [
    "dg=df[df['class'].str.match('^(suv|compact|pickup)')]\n",
    "dg.sample(5)"
   ]
  },
  {
   "cell_type": "code",
   "execution_count": null,
   "metadata": {},
   "outputs": [],
   "source": [
    "sns.factorplot(y='gear', x='cty', data=dg,\n",
    "               hue='drv',\n",
    "               kind='violin',\n",
    "               col='year',\n",
    "               row='class',\n",
    "               palette='Set3',\n",
    "               size=2.8, aspect=1.2)"
   ]
  }
 ],
 "metadata": {
  "language_info": {
   "name": "python",
   "pygments_lexer": "ipython3"
  }
 },
 "nbformat": 4,
 "nbformat_minor": 2
}

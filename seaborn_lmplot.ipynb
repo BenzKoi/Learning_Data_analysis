{
 "cells": [
  {
   "cell_type": "markdown",
   "metadata": {},
   "source": [
    "# seaborn (lmplot -> regplot + FacetGrid) "
   ]
  },
  {
   "cell_type": "code",
   "execution_count": null,
   "metadata": {},
   "outputs": [],
   "source": [
    "import pandas as pd\n",
    "import matplotlib.pyplot as plt\n",
    "import seaborn as sns\n",
    "%matplotlib inline\n",
    "%config InlineBackend.figure_format='retina'"
   ]
  },
  {
   "cell_type": "code",
   "execution_count": null,
   "metadata": {},
   "outputs": [],
   "source": [
    "print(f\"pandas  version = {pd.__version__}\")\n",
    "print(f\"seaborn version = {sns.__version__}\")"
   ]
  },
  {
   "cell_type": "markdown",
   "metadata": {},
   "source": [
    "## read miles per gallon dataset (mpg.csv)"
   ]
  },
  {
   "cell_type": "code",
   "execution_count": null,
   "metadata": {},
   "outputs": [],
   "source": [
    "url='https://github.com/prasertcbs/tutorial/raw/master/mpg.csv'\n",
    "df=pd.read_csv(url)\n",
    "df.head()"
   ]
  },
  {
   "cell_type": "code",
   "execution_count": null,
   "metadata": {},
   "outputs": [],
   "source": [
    "df['gear']=df.trans.str[0].map({'a':'auto', 'm':'manual'}).astype(\"category\")\n",
    "df['drv']=df.drv.map({'f':'front', 'r':'rear', '4':'4-wheel'}).astype('category')\n",
    "df.head()"
   ]
  },
  {
   "cell_type": "code",
   "execution_count": null,
   "metadata": {},
   "outputs": [],
   "source": [
    "sns.lmplot(x='displ', y='cty', data=df, size=4.5)"
   ]
  },
  {
   "cell_type": "code",
   "execution_count": null,
   "metadata": {},
   "outputs": [],
   "source": [
    "sns.lmplot(x='displ', y='cty', data=df,\n",
    "           fit_reg=False)"
   ]
  },
  {
   "cell_type": "code",
   "execution_count": null,
   "metadata": {},
   "outputs": [],
   "source": [
    "sns.lmplot(x='displ', y='cty', data=df,\n",
    "           size=4,\n",
    "           fit_reg=False,\n",
    "           scatter_kws={'alpha':.3})"
   ]
  },
  {
   "cell_type": "code",
   "execution_count": null,
   "metadata": {},
   "outputs": [],
   "source": [
    "sns.lmplot(x='displ', y='cty', data=df,\n",
    "           size=4,\n",
    "           fit_reg=True,\n",
    "           ci=False,\n",
    "           scatter=False)"
   ]
  },
  {
   "cell_type": "markdown",
   "metadata": {},
   "source": [
    "### add hue"
   ]
  },
  {
   "cell_type": "code",
   "execution_count": null,
   "metadata": {},
   "outputs": [],
   "source": [
    "sns.lmplot(x='displ', y='cty', data=df, \n",
    "           hue='gear')"
   ]
  },
  {
   "cell_type": "code",
   "execution_count": null,
   "metadata": {},
   "outputs": [],
   "source": [
    "sns.lmplot(x='displ', y='cty', data=df, \n",
    "           hue='drv')"
   ]
  },
  {
   "cell_type": "code",
   "execution_count": null,
   "metadata": {},
   "outputs": [],
   "source": [
    "sns.lmplot(x='displ', y='cty', data=df, \n",
    "           hue='gear',\n",
    "           col='year',\n",
    "           size=4,\n",
    "           scatter_kws={'alpha':.3})"
   ]
  },
  {
   "cell_type": "code",
   "execution_count": null,
   "metadata": {},
   "outputs": [],
   "source": [
    "sns.lmplot(x='displ', y='cty', data=df, \n",
    "           hue='gear',\n",
    "           col='year',\n",
    "           row='class',\n",
    "           size=4,\n",
    "           scatter_kws={'alpha':.3})"
   ]
  },
  {
   "cell_type": "markdown",
   "metadata": {},
   "source": [
    "## only regression line"
   ]
  },
  {
   "cell_type": "code",
   "execution_count": null,
   "metadata": {},
   "outputs": [],
   "source": [
    "sns.lmplot(x='displ', y='cty', data=df, \n",
    "           hue='gear',\n",
    "           col='year',\n",
    "           ci=False,\n",
    "           scatter=False)"
   ]
  },
  {
   "cell_type": "code",
   "execution_count": null,
   "metadata": {},
   "outputs": [],
   "source": [
    "sns.lmplot(x='displ', y='cty', data=df, \n",
    "           hue='gear',\n",
    "           col='class')"
   ]
  },
  {
   "cell_type": "markdown",
   "metadata": {},
   "source": [
    "## matplotlib markers\n",
    "https://matplotlib.org/api/markers_api.html"
   ]
  },
  {
   "cell_type": "code",
   "execution_count": null,
   "metadata": {},
   "outputs": [],
   "source": [
    "from IPython.display import IFrame\n",
    "IFrame('https://matplotlib.org/api/markers_api.html', width=640, height=240)"
   ]
  },
  {
   "cell_type": "markdown",
   "metadata": {},
   "source": [
    "### column wrap and size"
   ]
  },
  {
   "cell_type": "code",
   "execution_count": null,
   "metadata": {},
   "outputs": [],
   "source": [
    "sns.lmplot(x='displ', y='cty', data=df, \n",
    "           hue='gear',\n",
    "           markers=[\"x\", \"v\"], \n",
    "           col='class',\n",
    "           col_wrap=3,\n",
    "           size=4,\n",
    "           palette=\"Set2\",\n",
    "           scatter_kws={'alpha':.5})"
   ]
  },
  {
   "cell_type": "code",
   "execution_count": null,
   "metadata": {},
   "outputs": [],
   "source": [
    "# palette dict"
   ]
  },
  {
   "cell_type": "code",
   "execution_count": null,
   "metadata": {},
   "outputs": [],
   "source": [
    "sns.lmplot(x='displ', y='cty', data=df, \n",
    "           hue='gear',\n",
    "           markers=[\"x\", \"v\"], \n",
    "           col='drv',\n",
    "           col_wrap=3,\n",
    "           size=3, aspect=1,\n",
    "           palette={'auto':'tomato', 'manual':'#00ddcc'},\n",
    "           scatter_kws={'alpha':.5})"
   ]
  },
  {
   "cell_type": "markdown",
   "metadata": {},
   "source": [
    "## logistic regression\n",
    "https://en.wikipedia.org/wiki/Logistic_regression  \n",
    "A group of 20 students spend between 0 and 6 hours studying for an exam. How does the number of hours spent studying affect the probability that the student will pass the exam?"
   ]
  },
  {
   "cell_type": "code",
   "execution_count": null,
   "metadata": {},
   "outputs": [],
   "source": [
    "df2=pd.read_csv('https://github.com/prasertcbs/basic-dataset/raw/master/study_hours.csv')\n",
    "df2.sample(5)"
   ]
  },
  {
   "cell_type": "code",
   "execution_count": null,
   "metadata": {},
   "outputs": [],
   "source": [
    "sns.lmplot(x='Hours', y='Pass', data=df2,\n",
    "           logistic=True, size=4)\n",
    "plt.ylabel('Probability of passing exam')"
   ]
  },
  {
   "cell_type": "markdown",
   "metadata": {},
   "source": [
    "## lmplot vs regplot"
   ]
  },
  {
   "cell_type": "code",
   "execution_count": null,
   "metadata": {},
   "outputs": [],
   "source": [
    "url='https://github.com/prasertcbs/tutorial/raw/master/mpg.csv'\n",
    "df=pd.read_csv(url)\n",
    "df.head()"
   ]
  },
  {
   "cell_type": "code",
   "execution_count": null,
   "metadata": {},
   "outputs": [],
   "source": [
    "df['gear']=df.trans.str[0].map({'a':'auto', 'm':'manual'}).astype(\"category\")\n",
    "df['drv']=df.drv.map({'f':'front', 'r':'rear', '4':'4-wheel'}).astype('category')\n",
    "df.head()"
   ]
  },
  {
   "cell_type": "code",
   "execution_count": null,
   "metadata": {},
   "outputs": [],
   "source": [
    "fig = plt.figure(figsize=(14,4))\n",
    "x_col='displ'\n",
    "y_col='cty'\n",
    "fig.add_subplot(131)\n",
    "sns.lmplot(x=x_col, y=y_col, data=df)\n",
    "fig.add_subplot(132)\n",
    "sns.lmplot(x=x_col, y=y_col, data=df, fit_reg=False)\n",
    "fig.add_subplot(133)\n",
    "sns.lmplot(x=x_col, y=y_col, data=df, scatter=False, ci=False)"
   ]
  },
  {
   "cell_type": "code",
   "execution_count": null,
   "metadata": {},
   "outputs": [],
   "source": [
    "fig = plt.figure(figsize=(14,4))\n",
    "x_col='displ'\n",
    "y_col='cty'\n",
    "fig.add_subplot(131)\n",
    "sns.regplot(x=x_col, y=y_col, data=df)\n",
    "fig.add_subplot(132)\n",
    "sns.regplot(x=x_col, y=y_col, data=df, fit_reg=False)\n",
    "fig.add_subplot(133)\n",
    "sns.regplot(x=x_col, y=y_col, data=df, scatter=False, ci=False)"
   ]
  },
  {
   "cell_type": "code",
   "execution_count": null,
   "metadata": {},
   "outputs": [],
   "source": [
    "fig, ax = plt.subplots(1, 3, figsize=(14,4), sharey=True, sharex=True)\n",
    "print(ax.shape)\n",
    "x_col='displ'\n",
    "y_col='cty'\n",
    "\n",
    "sns.regplot(x=x_col, y=y_col, data=df, ax=ax[0])\n",
    "sns.regplot(x=x_col, y=y_col, data=df, fit_reg=False, ax=ax[1])\n",
    "sns.regplot(x=x_col, y=y_col, data=df, scatter=False, ci=False, ax=ax[2])"
   ]
  },
  {
   "cell_type": "code",
   "execution_count": null,
   "metadata": {},
   "outputs": [],
   "source": [
    "fig, ax = plt.subplots(2, 3, figsize=(14,6), sharey=False, sharex=False)\n",
    "print(ax.shape)\n",
    "x_col='displ'\n",
    "y_col='cty'\n",
    "\n",
    "sns.regplot(x=x_col, y=y_col, data=df, ax=ax[0, 0])\n",
    "sns.regplot(x=x_col, y=y_col, data=df, fit_reg=False, ax=ax[0, 1])\n",
    "sns.regplot(x=x_col, y=y_col, data=df, scatter=False, ci=False, ax=ax[0, 2])\n",
    "sns.distplot(df.cty, ax=ax[1, 0])\n",
    "sns.violinplot(df.cty, ax=ax[1, 1])\n",
    "sns.boxplot(df.cty, ax=ax[1, 2])"
   ]
  },
  {
   "cell_type": "code",
   "execution_count": null,
   "metadata": {},
   "outputs": [],
   "source": []
  }
 ],
 "metadata": {
  "language_info": {
   "name": "python",
   "pygments_lexer": "ipython3"
  }
 },
 "nbformat": 4,
 "nbformat_minor": 2
}
